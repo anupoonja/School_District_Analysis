{
  "nbformat": 4,
  "nbformat_minor": 0,
  "metadata": {
    "kernelspec": {
      "display_name": "PythonData",
      "language": "python",
      "name": "pythondata"
    },
    "language_info": {
      "codemirror_mode": {
        "name": "ipython",
        "version": 3
      },
      "file_extension": ".py",
      "mimetype": "text/x-python",
      "name": "python",
      "nbconvert_exporter": "python",
      "pygments_lexer": "ipython3",
      "version": "3.7.7"
    },
    "colab": {
      "name": "PyCitySchools.ipynb",
      "provenance": []
    }
  },
  "cells": [
    {
      "cell_type": "code",
      "metadata": {
        "id": "lX6Dd2ruq0N9",
        "colab_type": "code",
        "colab": {
          "base_uri": "https://localhost:8080/",
          "height": 402
        },
        "outputId": "c9348fcd-ce9b-480b-eee7-e26bf27d442c"
      },
      "source": [
        "# Import dependency\n",
        "import pandas as pd\n",
        "import os\n",
        "\n",
        "# Files to load\n",
        "school_data_to_load = os.path.join(\"Resources\", \"schools_complete.csv\")\n",
        "student_data_to_load = os.path.join(\"Resources\", \"students_complete.csv\")\n",
        "\n",
        "# Read student data\n",
        "school_data_df = pd.read_csv(school_data_to_load)\n",
        "school_data_df\n",
        "\n",
        "# Read student data\n",
        "student_data_df = pd.read_csv(student_data_to_load)\n",
        "student_data_df\n",
        "\n",
        "# Data Count\n",
        "#school_data_df.count()\n",
        "#student_data_df.count()\n",
        "#school_data_df.notnull()\n",
        "#school_data_df.isnull().sum()\n",
        "\n",
        "# Determine data types for the student DataFrame.\n",
        "#school_data_df.dtypes\n",
        "#school_data_df.school_name.dtype\n",
        "#school_data_df.type.dtype\n",
        "#school_data_df.size.dtype\n",
        "#school_data_df[\"School ID\"].dtype\n",
        "\n",
        "\n",
        "# Add each prefix and suffix to remove to a list.\n",
        "prefixes_suffixes = [\"Dr. \", \"Mr. \",\"Ms. \", \"Mrs. \", \"Miss \", \" MD\", \" DDS\", \" DVM\", \" PhD\"]\n",
        "\n",
        "# Iterate through the \"prefixes_suffixes\" list and replace them with an empty space, \"\" when it appears in the student's name.\n",
        "for word in prefixes_suffixes:\n",
        "    student_data_df[\"student_name\"] = student_data_df[\"student_name\"].str.replace(word, \"\")\n",
        "\n",
        "student_data_df[\"student_name\"]\n",
        "student_data_df"
      ],
      "execution_count": 4,
      "outputs": [
        {
          "output_type": "execute_result",
          "data": {
            "text/html": [
              "<div>\n",
              "<style scoped>\n",
              "    .dataframe tbody tr th:only-of-type {\n",
              "        vertical-align: middle;\n",
              "    }\n",
              "\n",
              "    .dataframe tbody tr th {\n",
              "        vertical-align: top;\n",
              "    }\n",
              "\n",
              "    .dataframe thead th {\n",
              "        text-align: right;\n",
              "    }\n",
              "</style>\n",
              "<table border=\"1\" class=\"dataframe\">\n",
              "  <thead>\n",
              "    <tr style=\"text-align: right;\">\n",
              "      <th></th>\n",
              "      <th>Student ID</th>\n",
              "      <th>student_name</th>\n",
              "      <th>gender</th>\n",
              "      <th>grade</th>\n",
              "      <th>school_name</th>\n",
              "      <th>reading_score</th>\n",
              "      <th>math_score</th>\n",
              "    </tr>\n",
              "  </thead>\n",
              "  <tbody>\n",
              "    <tr>\n",
              "      <th>0</th>\n",
              "      <td>0</td>\n",
              "      <td>Paul Bradley</td>\n",
              "      <td>M</td>\n",
              "      <td>9th</td>\n",
              "      <td>Huang High School</td>\n",
              "      <td>66</td>\n",
              "      <td>79</td>\n",
              "    </tr>\n",
              "    <tr>\n",
              "      <th>1</th>\n",
              "      <td>1</td>\n",
              "      <td>Victor Smith</td>\n",
              "      <td>M</td>\n",
              "      <td>12th</td>\n",
              "      <td>Huang High School</td>\n",
              "      <td>94</td>\n",
              "      <td>61</td>\n",
              "    </tr>\n",
              "    <tr>\n",
              "      <th>2</th>\n",
              "      <td>2</td>\n",
              "      <td>Kevin Rodriguez</td>\n",
              "      <td>M</td>\n",
              "      <td>12th</td>\n",
              "      <td>Huang High School</td>\n",
              "      <td>90</td>\n",
              "      <td>60</td>\n",
              "    </tr>\n",
              "    <tr>\n",
              "      <th>3</th>\n",
              "      <td>3</td>\n",
              "      <td>Richard Scott</td>\n",
              "      <td>M</td>\n",
              "      <td>12th</td>\n",
              "      <td>Huang High School</td>\n",
              "      <td>67</td>\n",
              "      <td>58</td>\n",
              "    </tr>\n",
              "    <tr>\n",
              "      <th>4</th>\n",
              "      <td>4</td>\n",
              "      <td>Bonnie Ray</td>\n",
              "      <td>F</td>\n",
              "      <td>9th</td>\n",
              "      <td>Huang High School</td>\n",
              "      <td>97</td>\n",
              "      <td>84</td>\n",
              "    </tr>\n",
              "    <tr>\n",
              "      <th>...</th>\n",
              "      <td>...</td>\n",
              "      <td>...</td>\n",
              "      <td>...</td>\n",
              "      <td>...</td>\n",
              "      <td>...</td>\n",
              "      <td>...</td>\n",
              "      <td>...</td>\n",
              "    </tr>\n",
              "    <tr>\n",
              "      <th>39165</th>\n",
              "      <td>39165</td>\n",
              "      <td>Donna Howard</td>\n",
              "      <td>F</td>\n",
              "      <td>12th</td>\n",
              "      <td>Thomas High School</td>\n",
              "      <td>99</td>\n",
              "      <td>90</td>\n",
              "    </tr>\n",
              "    <tr>\n",
              "      <th>39166</th>\n",
              "      <td>39166</td>\n",
              "      <td>Dawn Bell</td>\n",
              "      <td>F</td>\n",
              "      <td>10th</td>\n",
              "      <td>Thomas High School</td>\n",
              "      <td>95</td>\n",
              "      <td>70</td>\n",
              "    </tr>\n",
              "    <tr>\n",
              "      <th>39167</th>\n",
              "      <td>39167</td>\n",
              "      <td>Rebecca Tanner</td>\n",
              "      <td>F</td>\n",
              "      <td>9th</td>\n",
              "      <td>Thomas High School</td>\n",
              "      <td>73</td>\n",
              "      <td>84</td>\n",
              "    </tr>\n",
              "    <tr>\n",
              "      <th>39168</th>\n",
              "      <td>39168</td>\n",
              "      <td>Desiree Kidd</td>\n",
              "      <td>F</td>\n",
              "      <td>10th</td>\n",
              "      <td>Thomas High School</td>\n",
              "      <td>99</td>\n",
              "      <td>90</td>\n",
              "    </tr>\n",
              "    <tr>\n",
              "      <th>39169</th>\n",
              "      <td>39169</td>\n",
              "      <td>Carolyn Jackson</td>\n",
              "      <td>F</td>\n",
              "      <td>11th</td>\n",
              "      <td>Thomas High School</td>\n",
              "      <td>95</td>\n",
              "      <td>75</td>\n",
              "    </tr>\n",
              "  </tbody>\n",
              "</table>\n",
              "<p>39170 rows × 7 columns</p>\n",
              "</div>"
            ],
            "text/plain": [
              "       Student ID     student_name  ... reading_score math_score\n",
              "0               0     Paul Bradley  ...            66         79\n",
              "1               1     Victor Smith  ...            94         61\n",
              "2               2  Kevin Rodriguez  ...            90         60\n",
              "3               3    Richard Scott  ...            67         58\n",
              "4               4       Bonnie Ray  ...            97         84\n",
              "...           ...              ...  ...           ...        ...\n",
              "39165       39165     Donna Howard  ...            99         90\n",
              "39166       39166        Dawn Bell  ...            95         70\n",
              "39167       39167   Rebecca Tanner  ...            73         84\n",
              "39168       39168     Desiree Kidd  ...            99         90\n",
              "39169       39169  Carolyn Jackson  ...            95         75\n",
              "\n",
              "[39170 rows x 7 columns]"
            ]
          },
          "metadata": {
            "tags": []
          },
          "execution_count": 4
        }
      ]
    },
    {
      "cell_type": "code",
      "metadata": {
        "id": "KVQtevlAq0OC",
        "colab_type": "code",
        "colab": {
          "base_uri": "https://localhost:8080/",
          "height": 195
        },
        "outputId": "588d8bfe-c020-4cf3-ceca-9dd0d1afeb4d"
      },
      "source": [
        "# Combine the data into a single dataset.\n",
        "school_data_complete_df = pd.merge(student_data_df, school_data_df, on=[\"school_name\", \"school_name\"])\n",
        "school_data_complete_df.head()"
      ],
      "execution_count": 5,
      "outputs": [
        {
          "output_type": "execute_result",
          "data": {
            "text/html": [
              "<div>\n",
              "<style scoped>\n",
              "    .dataframe tbody tr th:only-of-type {\n",
              "        vertical-align: middle;\n",
              "    }\n",
              "\n",
              "    .dataframe tbody tr th {\n",
              "        vertical-align: top;\n",
              "    }\n",
              "\n",
              "    .dataframe thead th {\n",
              "        text-align: right;\n",
              "    }\n",
              "</style>\n",
              "<table border=\"1\" class=\"dataframe\">\n",
              "  <thead>\n",
              "    <tr style=\"text-align: right;\">\n",
              "      <th></th>\n",
              "      <th>Student ID</th>\n",
              "      <th>student_name</th>\n",
              "      <th>gender</th>\n",
              "      <th>grade</th>\n",
              "      <th>school_name</th>\n",
              "      <th>reading_score</th>\n",
              "      <th>math_score</th>\n",
              "      <th>School ID</th>\n",
              "      <th>type</th>\n",
              "      <th>size</th>\n",
              "      <th>budget</th>\n",
              "    </tr>\n",
              "  </thead>\n",
              "  <tbody>\n",
              "    <tr>\n",
              "      <th>0</th>\n",
              "      <td>0</td>\n",
              "      <td>Paul Bradley</td>\n",
              "      <td>M</td>\n",
              "      <td>9th</td>\n",
              "      <td>Huang High School</td>\n",
              "      <td>66</td>\n",
              "      <td>79</td>\n",
              "      <td>0</td>\n",
              "      <td>District</td>\n",
              "      <td>2917</td>\n",
              "      <td>1910635</td>\n",
              "    </tr>\n",
              "    <tr>\n",
              "      <th>1</th>\n",
              "      <td>1</td>\n",
              "      <td>Victor Smith</td>\n",
              "      <td>M</td>\n",
              "      <td>12th</td>\n",
              "      <td>Huang High School</td>\n",
              "      <td>94</td>\n",
              "      <td>61</td>\n",
              "      <td>0</td>\n",
              "      <td>District</td>\n",
              "      <td>2917</td>\n",
              "      <td>1910635</td>\n",
              "    </tr>\n",
              "    <tr>\n",
              "      <th>2</th>\n",
              "      <td>2</td>\n",
              "      <td>Kevin Rodriguez</td>\n",
              "      <td>M</td>\n",
              "      <td>12th</td>\n",
              "      <td>Huang High School</td>\n",
              "      <td>90</td>\n",
              "      <td>60</td>\n",
              "      <td>0</td>\n",
              "      <td>District</td>\n",
              "      <td>2917</td>\n",
              "      <td>1910635</td>\n",
              "    </tr>\n",
              "    <tr>\n",
              "      <th>3</th>\n",
              "      <td>3</td>\n",
              "      <td>Richard Scott</td>\n",
              "      <td>M</td>\n",
              "      <td>12th</td>\n",
              "      <td>Huang High School</td>\n",
              "      <td>67</td>\n",
              "      <td>58</td>\n",
              "      <td>0</td>\n",
              "      <td>District</td>\n",
              "      <td>2917</td>\n",
              "      <td>1910635</td>\n",
              "    </tr>\n",
              "    <tr>\n",
              "      <th>4</th>\n",
              "      <td>4</td>\n",
              "      <td>Bonnie Ray</td>\n",
              "      <td>F</td>\n",
              "      <td>9th</td>\n",
              "      <td>Huang High School</td>\n",
              "      <td>97</td>\n",
              "      <td>84</td>\n",
              "      <td>0</td>\n",
              "      <td>District</td>\n",
              "      <td>2917</td>\n",
              "      <td>1910635</td>\n",
              "    </tr>\n",
              "  </tbody>\n",
              "</table>\n",
              "</div>"
            ],
            "text/plain": [
              "   Student ID     student_name gender grade  ... School ID      type  size   budget\n",
              "0           0     Paul Bradley      M   9th  ...         0  District  2917  1910635\n",
              "1           1     Victor Smith      M  12th  ...         0  District  2917  1910635\n",
              "2           2  Kevin Rodriguez      M  12th  ...         0  District  2917  1910635\n",
              "3           3    Richard Scott      M  12th  ...         0  District  2917  1910635\n",
              "4           4       Bonnie Ray      F   9th  ...         0  District  2917  1910635\n",
              "\n",
              "[5 rows x 11 columns]"
            ]
          },
          "metadata": {
            "tags": []
          },
          "execution_count": 5
        }
      ]
    },
    {
      "cell_type": "code",
      "metadata": {
        "id": "NoUeQpF0q0OF",
        "colab_type": "code",
        "colab": {
          "base_uri": "https://localhost:8080/",
          "height": 50
        },
        "outputId": "f1730612-2cb7-4185-e547-c741a40d62d6"
      },
      "source": [
        "# Total number of students\n",
        "student_count = school_data_complete_df[\"Student ID\"].count()\n",
        "print(student_count)\n",
        "student_count_2 = school_data_complete_df.count()\n",
        "print(student_count)\n"
      ],
      "execution_count": 6,
      "outputs": [
        {
          "output_type": "stream",
          "text": [
            "39170\n",
            "39170\n"
          ],
          "name": "stdout"
        }
      ]
    },
    {
      "cell_type": "code",
      "metadata": {
        "id": "1aXKO9-_q0OI",
        "colab_type": "code",
        "colab": {
          "base_uri": "https://localhost:8080/",
          "height": 118
        },
        "outputId": "bf1976a9-9083-4306-ac33-7dbddb39859d"
      },
      "source": [
        "# Total number of schools\n",
        "school_count = school_data_df[\"school_name\"].count()\n",
        "school_count\n",
        "school_count_2 = school_data_complete_df[\"school_name\"].unique()\n",
        "print(school_count_2)\n",
        "school_count_3 = len(school_data_complete_df[\"school_name\"].unique())\n",
        "school_count_3"
      ],
      "execution_count": 7,
      "outputs": [
        {
          "output_type": "stream",
          "text": [
            "['Huang High School' 'Figueroa High School' 'Shelton High School'\n",
            " 'Hernandez High School' 'Griffin High School' 'Wilson High School'\n",
            " 'Cabrera High School' 'Bailey High School' 'Holden High School'\n",
            " 'Pena High School' 'Wright High School' 'Rodriguez High School'\n",
            " 'Johnson High School' 'Ford High School' 'Thomas High School']\n"
          ],
          "name": "stdout"
        },
        {
          "output_type": "execute_result",
          "data": {
            "text/plain": [
              "15"
            ]
          },
          "metadata": {
            "tags": []
          },
          "execution_count": 7
        }
      ]
    },
    {
      "cell_type": "code",
      "metadata": {
        "id": "u-N8L8qDq0OK",
        "colab_type": "code",
        "colab": {
          "base_uri": "https://localhost:8080/",
          "height": 34
        },
        "outputId": "7589a809-95c7-44c3-f576-2308a996526c"
      },
      "source": [
        "# Calculate the total budget.\n",
        "total_budget = school_data_df[\"budget\"].sum()\n",
        "total_budget"
      ],
      "execution_count": 8,
      "outputs": [
        {
          "output_type": "execute_result",
          "data": {
            "text/plain": [
              "24649428"
            ]
          },
          "metadata": {
            "tags": []
          },
          "execution_count": 8
        }
      ]
    },
    {
      "cell_type": "code",
      "metadata": {
        "id": "ra0Azc6Eq0OM",
        "colab_type": "code",
        "colab": {
          "base_uri": "https://localhost:8080/",
          "height": 34
        },
        "outputId": "4d705ec3-663e-4450-c3af-572ee2b81c9c"
      },
      "source": [
        "# Average reading score of students\n",
        "average_reading_score = school_data_complete_df[\"reading_score\"].mean()\n",
        "average_reading_score"
      ],
      "execution_count": 9,
      "outputs": [
        {
          "output_type": "execute_result",
          "data": {
            "text/plain": [
              "81.87784018381414"
            ]
          },
          "metadata": {
            "tags": []
          },
          "execution_count": 9
        }
      ]
    },
    {
      "cell_type": "code",
      "metadata": {
        "id": "rxSNa-EOq0OO",
        "colab_type": "code",
        "colab": {
          "base_uri": "https://localhost:8080/",
          "height": 34
        },
        "outputId": "80fddf3c-0a55-4967-fc14-ef7ab0771227"
      },
      "source": [
        "# Average math score of students\n",
        "average_math_score = school_data_complete_df[\"math_score\"].mean()\n",
        "average_math_score"
      ],
      "execution_count": 10,
      "outputs": [
        {
          "output_type": "execute_result",
          "data": {
            "text/plain": [
              "78.98537145774827"
            ]
          },
          "metadata": {
            "tags": []
          },
          "execution_count": 10
        }
      ]
    },
    {
      "cell_type": "code",
      "metadata": {
        "id": "wzHfftUxq0OR",
        "colab_type": "code",
        "colab": {
          "base_uri": "https://localhost:8080/",
          "height": 218
        },
        "outputId": "515dc876-4882-4a3e-c11e-b12025b68141"
      },
      "source": [
        "# Determine the passing grade for math\n",
        "passing_math = school_data_complete_df[\"math_score\"] >= 70\n",
        "passing_math"
      ],
      "execution_count": 11,
      "outputs": [
        {
          "output_type": "execute_result",
          "data": {
            "text/plain": [
              "0         True\n",
              "1        False\n",
              "2        False\n",
              "3        False\n",
              "4         True\n",
              "         ...  \n",
              "39165     True\n",
              "39166     True\n",
              "39167     True\n",
              "39168     True\n",
              "39169     True\n",
              "Name: math_score, Length: 39170, dtype: bool"
            ]
          },
          "metadata": {
            "tags": []
          },
          "execution_count": 11
        }
      ]
    },
    {
      "cell_type": "code",
      "metadata": {
        "id": "DQ2SEzj2q0OT",
        "colab_type": "code",
        "colab": {
          "base_uri": "https://localhost:8080/",
          "height": 402
        },
        "outputId": "3d159397-afbf-4120-c1c2-b064c1e50760"
      },
      "source": [
        "# Determine the passing grade reading\n",
        "passing_reading = school_data_complete_df[school_data_complete_df[\"reading_score\"] >= 70]\n",
        "passing_reading\n",
        "\n"
      ],
      "execution_count": 12,
      "outputs": [
        {
          "output_type": "execute_result",
          "data": {
            "text/html": [
              "<div>\n",
              "<style scoped>\n",
              "    .dataframe tbody tr th:only-of-type {\n",
              "        vertical-align: middle;\n",
              "    }\n",
              "\n",
              "    .dataframe tbody tr th {\n",
              "        vertical-align: top;\n",
              "    }\n",
              "\n",
              "    .dataframe thead th {\n",
              "        text-align: right;\n",
              "    }\n",
              "</style>\n",
              "<table border=\"1\" class=\"dataframe\">\n",
              "  <thead>\n",
              "    <tr style=\"text-align: right;\">\n",
              "      <th></th>\n",
              "      <th>Student ID</th>\n",
              "      <th>student_name</th>\n",
              "      <th>gender</th>\n",
              "      <th>grade</th>\n",
              "      <th>school_name</th>\n",
              "      <th>reading_score</th>\n",
              "      <th>math_score</th>\n",
              "      <th>School ID</th>\n",
              "      <th>type</th>\n",
              "      <th>size</th>\n",
              "      <th>budget</th>\n",
              "    </tr>\n",
              "  </thead>\n",
              "  <tbody>\n",
              "    <tr>\n",
              "      <th>1</th>\n",
              "      <td>1</td>\n",
              "      <td>Victor Smith</td>\n",
              "      <td>M</td>\n",
              "      <td>12th</td>\n",
              "      <td>Huang High School</td>\n",
              "      <td>94</td>\n",
              "      <td>61</td>\n",
              "      <td>0</td>\n",
              "      <td>District</td>\n",
              "      <td>2917</td>\n",
              "      <td>1910635</td>\n",
              "    </tr>\n",
              "    <tr>\n",
              "      <th>2</th>\n",
              "      <td>2</td>\n",
              "      <td>Kevin Rodriguez</td>\n",
              "      <td>M</td>\n",
              "      <td>12th</td>\n",
              "      <td>Huang High School</td>\n",
              "      <td>90</td>\n",
              "      <td>60</td>\n",
              "      <td>0</td>\n",
              "      <td>District</td>\n",
              "      <td>2917</td>\n",
              "      <td>1910635</td>\n",
              "    </tr>\n",
              "    <tr>\n",
              "      <th>4</th>\n",
              "      <td>4</td>\n",
              "      <td>Bonnie Ray</td>\n",
              "      <td>F</td>\n",
              "      <td>9th</td>\n",
              "      <td>Huang High School</td>\n",
              "      <td>97</td>\n",
              "      <td>84</td>\n",
              "      <td>0</td>\n",
              "      <td>District</td>\n",
              "      <td>2917</td>\n",
              "      <td>1910635</td>\n",
              "    </tr>\n",
              "    <tr>\n",
              "      <th>5</th>\n",
              "      <td>5</td>\n",
              "      <td>Bryan Miranda</td>\n",
              "      <td>M</td>\n",
              "      <td>9th</td>\n",
              "      <td>Huang High School</td>\n",
              "      <td>94</td>\n",
              "      <td>94</td>\n",
              "      <td>0</td>\n",
              "      <td>District</td>\n",
              "      <td>2917</td>\n",
              "      <td>1910635</td>\n",
              "    </tr>\n",
              "    <tr>\n",
              "      <th>6</th>\n",
              "      <td>6</td>\n",
              "      <td>Sheena Carter</td>\n",
              "      <td>F</td>\n",
              "      <td>11th</td>\n",
              "      <td>Huang High School</td>\n",
              "      <td>82</td>\n",
              "      <td>80</td>\n",
              "      <td>0</td>\n",
              "      <td>District</td>\n",
              "      <td>2917</td>\n",
              "      <td>1910635</td>\n",
              "    </tr>\n",
              "    <tr>\n",
              "      <th>...</th>\n",
              "      <td>...</td>\n",
              "      <td>...</td>\n",
              "      <td>...</td>\n",
              "      <td>...</td>\n",
              "      <td>...</td>\n",
              "      <td>...</td>\n",
              "      <td>...</td>\n",
              "      <td>...</td>\n",
              "      <td>...</td>\n",
              "      <td>...</td>\n",
              "      <td>...</td>\n",
              "    </tr>\n",
              "    <tr>\n",
              "      <th>39165</th>\n",
              "      <td>39165</td>\n",
              "      <td>Donna Howard</td>\n",
              "      <td>F</td>\n",
              "      <td>12th</td>\n",
              "      <td>Thomas High School</td>\n",
              "      <td>99</td>\n",
              "      <td>90</td>\n",
              "      <td>14</td>\n",
              "      <td>Charter</td>\n",
              "      <td>1635</td>\n",
              "      <td>1043130</td>\n",
              "    </tr>\n",
              "    <tr>\n",
              "      <th>39166</th>\n",
              "      <td>39166</td>\n",
              "      <td>Dawn Bell</td>\n",
              "      <td>F</td>\n",
              "      <td>10th</td>\n",
              "      <td>Thomas High School</td>\n",
              "      <td>95</td>\n",
              "      <td>70</td>\n",
              "      <td>14</td>\n",
              "      <td>Charter</td>\n",
              "      <td>1635</td>\n",
              "      <td>1043130</td>\n",
              "    </tr>\n",
              "    <tr>\n",
              "      <th>39167</th>\n",
              "      <td>39167</td>\n",
              "      <td>Rebecca Tanner</td>\n",
              "      <td>F</td>\n",
              "      <td>9th</td>\n",
              "      <td>Thomas High School</td>\n",
              "      <td>73</td>\n",
              "      <td>84</td>\n",
              "      <td>14</td>\n",
              "      <td>Charter</td>\n",
              "      <td>1635</td>\n",
              "      <td>1043130</td>\n",
              "    </tr>\n",
              "    <tr>\n",
              "      <th>39168</th>\n",
              "      <td>39168</td>\n",
              "      <td>Desiree Kidd</td>\n",
              "      <td>F</td>\n",
              "      <td>10th</td>\n",
              "      <td>Thomas High School</td>\n",
              "      <td>99</td>\n",
              "      <td>90</td>\n",
              "      <td>14</td>\n",
              "      <td>Charter</td>\n",
              "      <td>1635</td>\n",
              "      <td>1043130</td>\n",
              "    </tr>\n",
              "    <tr>\n",
              "      <th>39169</th>\n",
              "      <td>39169</td>\n",
              "      <td>Carolyn Jackson</td>\n",
              "      <td>F</td>\n",
              "      <td>11th</td>\n",
              "      <td>Thomas High School</td>\n",
              "      <td>95</td>\n",
              "      <td>75</td>\n",
              "      <td>14</td>\n",
              "      <td>Charter</td>\n",
              "      <td>1635</td>\n",
              "      <td>1043130</td>\n",
              "    </tr>\n",
              "  </tbody>\n",
              "</table>\n",
              "<p>33610 rows × 11 columns</p>\n",
              "</div>"
            ],
            "text/plain": [
              "       Student ID     student_name gender  ...      type  size   budget\n",
              "1               1     Victor Smith      M  ...  District  2917  1910635\n",
              "2               2  Kevin Rodriguez      M  ...  District  2917  1910635\n",
              "4               4       Bonnie Ray      F  ...  District  2917  1910635\n",
              "5               5    Bryan Miranda      M  ...  District  2917  1910635\n",
              "6               6    Sheena Carter      F  ...  District  2917  1910635\n",
              "...           ...              ...    ...  ...       ...   ...      ...\n",
              "39165       39165     Donna Howard      F  ...   Charter  1635  1043130\n",
              "39166       39166        Dawn Bell      F  ...   Charter  1635  1043130\n",
              "39167       39167   Rebecca Tanner      F  ...   Charter  1635  1043130\n",
              "39168       39168     Desiree Kidd      F  ...   Charter  1635  1043130\n",
              "39169       39169  Carolyn Jackson      F  ...   Charter  1635  1043130\n",
              "\n",
              "[33610 rows x 11 columns]"
            ]
          },
          "metadata": {
            "tags": []
          },
          "execution_count": 12
        }
      ]
    },
    {
      "cell_type": "code",
      "metadata": {
        "id": "wy4eG_iQq0OX",
        "colab_type": "code",
        "colab": {
          "base_uri": "https://localhost:8080/",
          "height": 50
        },
        "outputId": "7eedb203-d123-4118-9da0-0eb957f0388f"
      },
      "source": [
        "# Calculate the number of students passing math.\n",
        "passing_math_count = passing_math.sum()\n",
        "print(passing_math_count)\n",
        "\n",
        "# Calculate the number of students passing reading.\n",
        "passing_reading_count = passing_reading[\"student_name\"].count()\n",
        "print(passing_reading_count)"
      ],
      "execution_count": 13,
      "outputs": [
        {
          "output_type": "stream",
          "text": [
            "29370\n",
            "33610\n"
          ],
          "name": "stdout"
        }
      ]
    },
    {
      "cell_type": "code",
      "metadata": {
        "id": "Z9UVRqWmq0OZ",
        "colab_type": "code",
        "colab": {
          "base_uri": "https://localhost:8080/",
          "height": 50
        },
        "outputId": "1e2f789d-7291-4281-8458-5ddeeb58c96c"
      },
      "source": [
        "# Percentage of students who passed math and reading\n",
        "passing_math_percentage = passing_math_count / float(student_count) * 100\n",
        "passing_reading_percentage = passing_reading_count / float(student_count) * 100\n",
        "print(passing_math_percentage)\n",
        "print(passing_reading_percentage)"
      ],
      "execution_count": 14,
      "outputs": [
        {
          "output_type": "stream",
          "text": [
            "74.9808526933878\n",
            "85.80546336482001\n"
          ],
          "name": "stdout"
        }
      ]
    },
    {
      "cell_type": "code",
      "metadata": {
        "id": "jWO9hl4Yq0Oa",
        "colab_type": "code",
        "colab": {
          "base_uri": "https://localhost:8080/",
          "height": 34
        },
        "outputId": "fc6b1560-001b-43bc-b9bf-9248912c409a"
      },
      "source": [
        "# Calculate students who passed both math and reading\n",
        "passing_math_reading = school_data_complete_df[(school_data_complete_df[\"math_score\"] >= 70) & (school_data_complete_df[\"reading_score\"] >= 70)]\n",
        "\n",
        "passing_math_reading[\"student_name\"].count()\n",
        "overall_passing_math_reading_count = passing_math_reading.student_name.count()\n",
        "overall_passing_math_reading_count"
      ],
      "execution_count": 15,
      "outputs": [
        {
          "output_type": "execute_result",
          "data": {
            "text/plain": [
              "25528"
            ]
          },
          "metadata": {
            "tags": []
          },
          "execution_count": 15
        }
      ]
    },
    {
      "cell_type": "code",
      "metadata": {
        "id": "YSgYLSOUq0Oc",
        "colab_type": "code",
        "colab": {
          "base_uri": "https://localhost:8080/",
          "height": 34
        },
        "outputId": "19e98cca-2159-41f6-833b-a6031c4da750"
      },
      "source": [
        "# Percentage of students who passed both math and reading\n",
        "passing_math_reading_percentage = overall_passing_math_reading_count / float(student_count) * 100\n",
        "passing_math_reading_percentage"
      ],
      "execution_count": 16,
      "outputs": [
        {
          "output_type": "execute_result",
          "data": {
            "text/plain": [
              "65.17232575950983"
            ]
          },
          "metadata": {
            "tags": []
          },
          "execution_count": 16
        }
      ]
    },
    {
      "cell_type": "code",
      "metadata": {
        "id": "sGzJ_FeGq0Oe",
        "colab_type": "code",
        "colab": {}
      },
      "source": [
        ""
      ],
      "execution_count": null,
      "outputs": []
    },
    {
      "cell_type": "code",
      "metadata": {
        "id": "CQj_SERYq0Og",
        "colab_type": "code",
        "colab": {
          "base_uri": "https://localhost:8080/",
          "height": 77
        },
        "outputId": "0d33df63-024a-49fa-e4fd-837c32d31548"
      },
      "source": [
        "# Creating a new DataFrame with a list of values with keys\n",
        "district_summary_df = pd.DataFrame(\n",
        "    [\n",
        "        {\"Total Schools\": school_count,\n",
        "        \"Total Students\": student_count,\n",
        "        \"Total Budget\": total_budget,\n",
        "        \"Average Math Score\": average_math_score,\n",
        "        \"Average Reading Score\": average_reading_score,\n",
        "        \"% Passing Math\": passing_math_percentage,\n",
        "        \"% Passing Reading\": passing_reading_percentage,\n",
        "        \"% Overall Passing\": passing_math_reading_percentage}\n",
        "    ]\n",
        ")\n",
        "district_summary_df"
      ],
      "execution_count": 17,
      "outputs": [
        {
          "output_type": "execute_result",
          "data": {
            "text/html": [
              "<div>\n",
              "<style scoped>\n",
              "    .dataframe tbody tr th:only-of-type {\n",
              "        vertical-align: middle;\n",
              "    }\n",
              "\n",
              "    .dataframe tbody tr th {\n",
              "        vertical-align: top;\n",
              "    }\n",
              "\n",
              "    .dataframe thead th {\n",
              "        text-align: right;\n",
              "    }\n",
              "</style>\n",
              "<table border=\"1\" class=\"dataframe\">\n",
              "  <thead>\n",
              "    <tr style=\"text-align: right;\">\n",
              "      <th></th>\n",
              "      <th>Total Schools</th>\n",
              "      <th>Total Students</th>\n",
              "      <th>Total Budget</th>\n",
              "      <th>Average Math Score</th>\n",
              "      <th>Average Reading Score</th>\n",
              "      <th>% Passing Math</th>\n",
              "      <th>% Passing Reading</th>\n",
              "      <th>% Overall Passing</th>\n",
              "    </tr>\n",
              "  </thead>\n",
              "  <tbody>\n",
              "    <tr>\n",
              "      <th>0</th>\n",
              "      <td>15</td>\n",
              "      <td>39170</td>\n",
              "      <td>24649428</td>\n",
              "      <td>78.985371</td>\n",
              "      <td>81.87784</td>\n",
              "      <td>74.980853</td>\n",
              "      <td>85.805463</td>\n",
              "      <td>65.172326</td>\n",
              "    </tr>\n",
              "  </tbody>\n",
              "</table>\n",
              "</div>"
            ],
            "text/plain": [
              "   Total Schools  Total Students  ...  % Passing Reading  % Overall Passing\n",
              "0             15           39170  ...          85.805463          65.172326\n",
              "\n",
              "[1 rows x 8 columns]"
            ]
          },
          "metadata": {
            "tags": []
          },
          "execution_count": 17
        }
      ]
    },
    {
      "cell_type": "code",
      "metadata": {
        "id": "kVkbn4xSq0Oi",
        "colab_type": "code",
        "colab": {
          "base_uri": "https://localhost:8080/",
          "height": 50
        },
        "outputId": "86e79627-49b4-4faa-abb1-e88713642faa"
      },
      "source": [
        "# Format the \"Total Students\" to have the comma for a thousands separator.\n",
        "district_summary_df[\"Total Students\"] = district_summary_df[\"Total Students\"].map(\"{:,}\".format)\n",
        "\n",
        "district_summary_df[\"Total Students\"]\n"
      ],
      "execution_count": 18,
      "outputs": [
        {
          "output_type": "execute_result",
          "data": {
            "text/plain": [
              "0    39,170\n",
              "Name: Total Students, dtype: object"
            ]
          },
          "metadata": {
            "tags": []
          },
          "execution_count": 18
        }
      ]
    },
    {
      "cell_type": "code",
      "metadata": {
        "id": "tRBePCd8q0Ok",
        "colab_type": "code",
        "colab": {
          "base_uri": "https://localhost:8080/",
          "height": 50
        },
        "outputId": "8dea5385-c763-4b7f-828a-167d6d68ae12"
      },
      "source": [
        "# Format \"Total Budget\" to have the comma for a thousands separator, a decimal separator, and a \"$\".\n",
        "\n",
        "district_summary_df[\"Total Budget\"] = district_summary_df[\"Total Budget\"].map(\"${:,.2f}\".format)\n",
        "\n",
        "district_summary_df[\"Total Budget\"]"
      ],
      "execution_count": 19,
      "outputs": [
        {
          "output_type": "execute_result",
          "data": {
            "text/plain": [
              "0    $24,649,428.00\n",
              "Name: Total Budget, dtype: object"
            ]
          },
          "metadata": {
            "tags": []
          },
          "execution_count": 19
        }
      ]
    },
    {
      "cell_type": "code",
      "metadata": {
        "id": "FYS9q-kfq0Om",
        "colab_type": "code",
        "colab": {}
      },
      "source": [
        "# Format the columns.\n",
        "district_summary_df[\"Average Math Score\"] = district_summary_df[\"Average Math Score\"].map(\"{:.1f}\".format)\n",
        "district_summary_df[\"Average Reading Score\"] = district_summary_df[\"Average Reading Score\"].map(\"{:.1f}\".format)\n",
        "district_summary_df[\"% Passing Math\"] = district_summary_df[\"% Passing Math\"].map(\"{:.0f}\".format)\n",
        "district_summary_df[\"% Passing Reading\"] = district_summary_df[\"% Passing Reading\"].map(\"{:.0f}\".format)\n",
        "district_summary_df[\"% Overall Passing\"] = district_summary_df[\"% Overall Passing\"].map(\"{:.0f}\".format)"
      ],
      "execution_count": 20,
      "outputs": []
    },
    {
      "cell_type": "code",
      "metadata": {
        "id": "8lxby6s6q0Op",
        "colab_type": "code",
        "colab": {},
        "outputId": "4283dad3-bfb4-4922-ea53-4902f6639aa7"
      },
      "source": [
        "district_summary_df"
      ],
      "execution_count": null,
      "outputs": [
        {
          "output_type": "execute_result",
          "data": {
            "text/html": [
              "<div>\n",
              "<style scoped>\n",
              "    .dataframe tbody tr th:only-of-type {\n",
              "        vertical-align: middle;\n",
              "    }\n",
              "\n",
              "    .dataframe tbody tr th {\n",
              "        vertical-align: top;\n",
              "    }\n",
              "\n",
              "    .dataframe thead th {\n",
              "        text-align: right;\n",
              "    }\n",
              "</style>\n",
              "<table border=\"1\" class=\"dataframe\">\n",
              "  <thead>\n",
              "    <tr style=\"text-align: right;\">\n",
              "      <th></th>\n",
              "      <th>Total Schools</th>\n",
              "      <th>Total Students</th>\n",
              "      <th>Total Budget</th>\n",
              "      <th>Average Math Score</th>\n",
              "      <th>Average Reading Score</th>\n",
              "      <th>% Passing Math</th>\n",
              "      <th>% Passing Reading</th>\n",
              "      <th>% Overall Passing</th>\n",
              "    </tr>\n",
              "  </thead>\n",
              "  <tbody>\n",
              "    <tr>\n",
              "      <th>0</th>\n",
              "      <td>15</td>\n",
              "      <td>39170</td>\n",
              "      <td>24649428</td>\n",
              "      <td>79.0</td>\n",
              "      <td>81.9</td>\n",
              "      <td>75</td>\n",
              "      <td>86</td>\n",
              "      <td>65</td>\n",
              "    </tr>\n",
              "  </tbody>\n",
              "</table>\n",
              "</div>"
            ],
            "text/plain": [
              "   Total Schools  Total Students  Total Budget Average Math Score  \\\n",
              "0             15           39170      24649428               79.0   \n",
              "\n",
              "  Average Reading Score % Passing Math % Passing Reading % Overall Passing  \n",
              "0                  81.9             75                86                65  "
            ]
          },
          "metadata": {
            "tags": []
          },
          "execution_count": 202
        }
      ]
    },
    {
      "cell_type": "code",
      "metadata": {
        "id": "AcVV5KMNq0Or",
        "colab_type": "code",
        "colab": {
          "base_uri": "https://localhost:8080/",
          "height": 94
        },
        "outputId": "09900b59-6d61-40fc-eec2-ac7dc35ba78e"
      },
      "source": [
        "# Reorder the columns in the order you want them to appear.\n",
        "new_column_order = [\"Total Schools\", \"Total Students\", \"Total Budget\",\"Average Math Score\", \"Average Reading Score\", \"% Passing Math\", \"% Passing Reading\", \"% Overall Passing\"]\n",
        "\n",
        "\n",
        "# Assign district summary df the new column order.\n",
        "district_summary_df = district_summary_df[new_column_order]\n",
        "district_summary_df"
      ],
      "execution_count": 21,
      "outputs": [
        {
          "output_type": "execute_result",
          "data": {
            "text/html": [
              "<div>\n",
              "<style scoped>\n",
              "    .dataframe tbody tr th:only-of-type {\n",
              "        vertical-align: middle;\n",
              "    }\n",
              "\n",
              "    .dataframe tbody tr th {\n",
              "        vertical-align: top;\n",
              "    }\n",
              "\n",
              "    .dataframe thead th {\n",
              "        text-align: right;\n",
              "    }\n",
              "</style>\n",
              "<table border=\"1\" class=\"dataframe\">\n",
              "  <thead>\n",
              "    <tr style=\"text-align: right;\">\n",
              "      <th></th>\n",
              "      <th>Total Schools</th>\n",
              "      <th>Total Students</th>\n",
              "      <th>Total Budget</th>\n",
              "      <th>Average Math Score</th>\n",
              "      <th>Average Reading Score</th>\n",
              "      <th>% Passing Math</th>\n",
              "      <th>% Passing Reading</th>\n",
              "      <th>% Overall Passing</th>\n",
              "    </tr>\n",
              "  </thead>\n",
              "  <tbody>\n",
              "    <tr>\n",
              "      <th>0</th>\n",
              "      <td>15</td>\n",
              "      <td>39,170</td>\n",
              "      <td>$24,649,428.00</td>\n",
              "      <td>79.0</td>\n",
              "      <td>81.9</td>\n",
              "      <td>75</td>\n",
              "      <td>86</td>\n",
              "      <td>65</td>\n",
              "    </tr>\n",
              "  </tbody>\n",
              "</table>\n",
              "</div>"
            ],
            "text/plain": [
              "   Total Schools Total Students  ... % Passing Reading % Overall Passing\n",
              "0             15         39,170  ...                86                65\n",
              "\n",
              "[1 rows x 8 columns]"
            ]
          },
          "metadata": {
            "tags": []
          },
          "execution_count": 21
        }
      ]
    },
    {
      "cell_type": "code",
      "metadata": {
        "id": "9AQdCKGDq0Ou",
        "colab_type": "code",
        "colab": {
          "base_uri": "https://localhost:8080/",
          "height": 302
        },
        "outputId": "7e83aa37-9b28-4c19-fab7-720cdc705ee5"
      },
      "source": [
        "# School name - Index\n",
        "# Columns : School Type | Total students | Total school budget | Average math score | Average reading score | % passing math | % passing reading | % overall passing\n",
        "\n",
        "# Create new DataFrame\n",
        "per_school_types = school_data_df.set_index([\"school_name\"])[\"type\"]\n",
        "per_school_types\n"
      ],
      "execution_count": 22,
      "outputs": [
        {
          "output_type": "execute_result",
          "data": {
            "text/plain": [
              "school_name\n",
              "Huang High School        District\n",
              "Figueroa High School     District\n",
              "Shelton High School       Charter\n",
              "Hernandez High School    District\n",
              "Griffin High School       Charter\n",
              "Wilson High School        Charter\n",
              "Cabrera High School       Charter\n",
              "Bailey High School       District\n",
              "Holden High School        Charter\n",
              "Pena High School          Charter\n",
              "Wright High School        Charter\n",
              "Rodriguez High School    District\n",
              "Johnson High School      District\n",
              "Ford High School         District\n",
              "Thomas High School        Charter\n",
              "Name: type, dtype: object"
            ]
          },
          "metadata": {
            "tags": []
          },
          "execution_count": 22
        }
      ]
    },
    {
      "cell_type": "code",
      "metadata": {
        "id": "U4tMXOkGq0Ow",
        "colab_type": "code",
        "colab": {
          "base_uri": "https://localhost:8080/",
          "height": 521
        },
        "outputId": "1a2efa87-c4ea-4d02-c09a-84406db066fc"
      },
      "source": [
        "# Convert Series to DataFrame\n",
        "per_school_types_df = pd.DataFrame(per_school_types)\n",
        "per_school_types_df"
      ],
      "execution_count": 23,
      "outputs": [
        {
          "output_type": "execute_result",
          "data": {
            "text/html": [
              "<div>\n",
              "<style scoped>\n",
              "    .dataframe tbody tr th:only-of-type {\n",
              "        vertical-align: middle;\n",
              "    }\n",
              "\n",
              "    .dataframe tbody tr th {\n",
              "        vertical-align: top;\n",
              "    }\n",
              "\n",
              "    .dataframe thead th {\n",
              "        text-align: right;\n",
              "    }\n",
              "</style>\n",
              "<table border=\"1\" class=\"dataframe\">\n",
              "  <thead>\n",
              "    <tr style=\"text-align: right;\">\n",
              "      <th></th>\n",
              "      <th>type</th>\n",
              "    </tr>\n",
              "    <tr>\n",
              "      <th>school_name</th>\n",
              "      <th></th>\n",
              "    </tr>\n",
              "  </thead>\n",
              "  <tbody>\n",
              "    <tr>\n",
              "      <th>Huang High School</th>\n",
              "      <td>District</td>\n",
              "    </tr>\n",
              "    <tr>\n",
              "      <th>Figueroa High School</th>\n",
              "      <td>District</td>\n",
              "    </tr>\n",
              "    <tr>\n",
              "      <th>Shelton High School</th>\n",
              "      <td>Charter</td>\n",
              "    </tr>\n",
              "    <tr>\n",
              "      <th>Hernandez High School</th>\n",
              "      <td>District</td>\n",
              "    </tr>\n",
              "    <tr>\n",
              "      <th>Griffin High School</th>\n",
              "      <td>Charter</td>\n",
              "    </tr>\n",
              "    <tr>\n",
              "      <th>Wilson High School</th>\n",
              "      <td>Charter</td>\n",
              "    </tr>\n",
              "    <tr>\n",
              "      <th>Cabrera High School</th>\n",
              "      <td>Charter</td>\n",
              "    </tr>\n",
              "    <tr>\n",
              "      <th>Bailey High School</th>\n",
              "      <td>District</td>\n",
              "    </tr>\n",
              "    <tr>\n",
              "      <th>Holden High School</th>\n",
              "      <td>Charter</td>\n",
              "    </tr>\n",
              "    <tr>\n",
              "      <th>Pena High School</th>\n",
              "      <td>Charter</td>\n",
              "    </tr>\n",
              "    <tr>\n",
              "      <th>Wright High School</th>\n",
              "      <td>Charter</td>\n",
              "    </tr>\n",
              "    <tr>\n",
              "      <th>Rodriguez High School</th>\n",
              "      <td>District</td>\n",
              "    </tr>\n",
              "    <tr>\n",
              "      <th>Johnson High School</th>\n",
              "      <td>District</td>\n",
              "    </tr>\n",
              "    <tr>\n",
              "      <th>Ford High School</th>\n",
              "      <td>District</td>\n",
              "    </tr>\n",
              "    <tr>\n",
              "      <th>Thomas High School</th>\n",
              "      <td>Charter</td>\n",
              "    </tr>\n",
              "  </tbody>\n",
              "</table>\n",
              "</div>"
            ],
            "text/plain": [
              "                           type\n",
              "school_name                    \n",
              "Huang High School      District\n",
              "Figueroa High School   District\n",
              "Shelton High School     Charter\n",
              "Hernandez High School  District\n",
              "Griffin High School     Charter\n",
              "Wilson High School      Charter\n",
              "Cabrera High School     Charter\n",
              "Bailey High School     District\n",
              "Holden High School      Charter\n",
              "Pena High School        Charter\n",
              "Wright High School      Charter\n",
              "Rodriguez High School  District\n",
              "Johnson High School    District\n",
              "Ford High School       District\n",
              "Thomas High School      Charter"
            ]
          },
          "metadata": {
            "tags": []
          },
          "execution_count": 23
        }
      ]
    },
    {
      "cell_type": "code",
      "metadata": {
        "id": "7oa5MdSmq0Ox",
        "colab_type": "code",
        "colab": {
          "base_uri": "https://localhost:8080/",
          "height": 286
        },
        "outputId": "b912ece7-f43f-4f80-f778-70fd47ea0ffa"
      },
      "source": [
        "# Calculate the total student count.\n",
        "per_school_counts = school_data_df[\"size\"]\n",
        "per_school_counts"
      ],
      "execution_count": 24,
      "outputs": [
        {
          "output_type": "execute_result",
          "data": {
            "text/plain": [
              "0     2917\n",
              "1     2949\n",
              "2     1761\n",
              "3     4635\n",
              "4     1468\n",
              "5     2283\n",
              "6     1858\n",
              "7     4976\n",
              "8      427\n",
              "9      962\n",
              "10    1800\n",
              "11    3999\n",
              "12    4761\n",
              "13    2739\n",
              "14    1635\n",
              "Name: size, dtype: int64"
            ]
          },
          "metadata": {
            "tags": []
          },
          "execution_count": 24
        }
      ]
    },
    {
      "cell_type": "code",
      "metadata": {
        "id": "7YwN3QsRq0Oz",
        "colab_type": "code",
        "colab": {
          "base_uri": "https://localhost:8080/",
          "height": 302
        },
        "outputId": "e60383bd-8caa-4de4-96e6-5ef6b6c43307"
      },
      "source": [
        "# Calculate the total student count.\n",
        "per_school_counts = school_data_df.set_index([\"school_name\"])[\"size\"]\n",
        "per_school_counts"
      ],
      "execution_count": 25,
      "outputs": [
        {
          "output_type": "execute_result",
          "data": {
            "text/plain": [
              "school_name\n",
              "Huang High School        2917\n",
              "Figueroa High School     2949\n",
              "Shelton High School      1761\n",
              "Hernandez High School    4635\n",
              "Griffin High School      1468\n",
              "Wilson High School       2283\n",
              "Cabrera High School      1858\n",
              "Bailey High School       4976\n",
              "Holden High School        427\n",
              "Pena High School          962\n",
              "Wright High School       1800\n",
              "Rodriguez High School    3999\n",
              "Johnson High School      4761\n",
              "Ford High School         2739\n",
              "Thomas High School       1635\n",
              "Name: size, dtype: int64"
            ]
          },
          "metadata": {
            "tags": []
          },
          "execution_count": 25
        }
      ]
    },
    {
      "cell_type": "code",
      "metadata": {
        "scrolled": true,
        "id": "tr4VXycdq0O1",
        "colab_type": "code",
        "colab": {
          "base_uri": "https://localhost:8080/",
          "height": 286
        },
        "outputId": "83ca6b17-f5ef-408f-a5d2-bccb72a07154"
      },
      "source": [
        "# Calculate the total student count.\n",
        "per_school_counts = school_data_complete_df[\"school_name\"].value_counts()\n",
        "per_school_counts"
      ],
      "execution_count": 41,
      "outputs": [
        {
          "output_type": "execute_result",
          "data": {
            "text/plain": [
              "Bailey High School       4976\n",
              "Johnson High School      4761\n",
              "Hernandez High School    4635\n",
              "Rodriguez High School    3999\n",
              "Figueroa High School     2949\n",
              "Huang High School        2917\n",
              "Ford High School         2739\n",
              "Wilson High School       2283\n",
              "Cabrera High School      1858\n",
              "Wright High School       1800\n",
              "Shelton High School      1761\n",
              "Thomas High School       1635\n",
              "Griffin High School      1468\n",
              "Pena High School          962\n",
              "Holden High School        427\n",
              "Name: school_name, dtype: int64"
            ]
          },
          "metadata": {
            "tags": []
          },
          "execution_count": 41
        }
      ]
    },
    {
      "cell_type": "code",
      "metadata": {
        "id": "4HNlTjBSq0O4",
        "colab_type": "code",
        "colab": {
          "base_uri": "https://localhost:8080/",
          "height": 302
        },
        "outputId": "aadae2f9-c703-4d32-93ef-dda4379c4b91"
      },
      "source": [
        "# Calculate the total school budget.\n",
        "per_school_budget = school_data_df.set_index([\"school_name\"])[\"budget\"]\n",
        "per_school_budget"
      ],
      "execution_count": 27,
      "outputs": [
        {
          "output_type": "execute_result",
          "data": {
            "text/plain": [
              "school_name\n",
              "Huang High School        1910635\n",
              "Figueroa High School     1884411\n",
              "Shelton High School      1056600\n",
              "Hernandez High School    3022020\n",
              "Griffin High School       917500\n",
              "Wilson High School       1319574\n",
              "Cabrera High School      1081356\n",
              "Bailey High School       3124928\n",
              "Holden High School        248087\n",
              "Pena High School          585858\n",
              "Wright High School       1049400\n",
              "Rodriguez High School    2547363\n",
              "Johnson High School      3094650\n",
              "Ford High School         1763916\n",
              "Thomas High School       1043130\n",
              "Name: budget, dtype: int64"
            ]
          },
          "metadata": {
            "tags": []
          },
          "execution_count": 27
        }
      ]
    },
    {
      "cell_type": "code",
      "metadata": {
        "id": "zIcL1hIqq0O5",
        "colab_type": "code",
        "colab": {
          "base_uri": "https://localhost:8080/",
          "height": 286
        },
        "outputId": "a21742e7-466a-46e8-9775-8272c0d7a50c"
      },
      "source": [
        "# Calculate the per capita spending.\n",
        "per_school_capita = per_school_budget / per_school_counts\n",
        "per_school_capita"
      ],
      "execution_count": 28,
      "outputs": [
        {
          "output_type": "execute_result",
          "data": {
            "text/plain": [
              "Bailey High School       628.0\n",
              "Cabrera High School      582.0\n",
              "Figueroa High School     639.0\n",
              "Ford High School         644.0\n",
              "Griffin High School      625.0\n",
              "Hernandez High School    652.0\n",
              "Holden High School       581.0\n",
              "Huang High School        655.0\n",
              "Johnson High School      650.0\n",
              "Pena High School         609.0\n",
              "Rodriguez High School    637.0\n",
              "Shelton High School      600.0\n",
              "Thomas High School       638.0\n",
              "Wilson High School       578.0\n",
              "Wright High School       583.0\n",
              "dtype: float64"
            ]
          },
          "metadata": {
            "tags": []
          },
          "execution_count": 28
        }
      ]
    },
    {
      "cell_type": "code",
      "metadata": {
        "id": "SqaXXaEGq0O7",
        "colab_type": "code",
        "colab": {
          "base_uri": "https://localhost:8080/",
          "height": 235
        },
        "outputId": "c6bd0b0a-83fd-42f9-eb99-0037b49f9e55"
      },
      "source": [
        "# Calculate the math scores.\n",
        "student_school_math = student_data_df.set_index([\"school_name\"])[\"math_score\"]\n",
        "student_school_math"
      ],
      "execution_count": 42,
      "outputs": [
        {
          "output_type": "execute_result",
          "data": {
            "text/plain": [
              "school_name\n",
              "Huang High School     79\n",
              "Huang High School     61\n",
              "Huang High School     60\n",
              "Huang High School     58\n",
              "Huang High School     84\n",
              "                      ..\n",
              "Thomas High School    90\n",
              "Thomas High School    70\n",
              "Thomas High School    84\n",
              "Thomas High School    90\n",
              "Thomas High School    75\n",
              "Name: math_score, Length: 39170, dtype: int64"
            ]
          },
          "metadata": {
            "tags": []
          },
          "execution_count": 42
        }
      ]
    },
    {
      "cell_type": "code",
      "metadata": {
        "id": "Zg4Fgp68q0O9",
        "colab_type": "code",
        "colab": {
          "base_uri": "https://localhost:8080/",
          "height": 521
        },
        "outputId": "15f5da6e-cdd5-4420-e59f-6db0d68d17ce"
      },
      "source": [
        "# Calculate the average math scores.\n",
        "per_school_averages = school_data_complete_df.groupby([\"school_name\"]).mean()\n",
        "per_school_averages"
      ],
      "execution_count": 43,
      "outputs": [
        {
          "output_type": "execute_result",
          "data": {
            "text/html": [
              "<div>\n",
              "<style scoped>\n",
              "    .dataframe tbody tr th:only-of-type {\n",
              "        vertical-align: middle;\n",
              "    }\n",
              "\n",
              "    .dataframe tbody tr th {\n",
              "        vertical-align: top;\n",
              "    }\n",
              "\n",
              "    .dataframe thead th {\n",
              "        text-align: right;\n",
              "    }\n",
              "</style>\n",
              "<table border=\"1\" class=\"dataframe\">\n",
              "  <thead>\n",
              "    <tr style=\"text-align: right;\">\n",
              "      <th></th>\n",
              "      <th>Student ID</th>\n",
              "      <th>reading_score</th>\n",
              "      <th>math_score</th>\n",
              "      <th>School ID</th>\n",
              "      <th>size</th>\n",
              "      <th>budget</th>\n",
              "    </tr>\n",
              "    <tr>\n",
              "      <th>school_name</th>\n",
              "      <th></th>\n",
              "      <th></th>\n",
              "      <th></th>\n",
              "      <th></th>\n",
              "      <th></th>\n",
              "      <th></th>\n",
              "    </tr>\n",
              "  </thead>\n",
              "  <tbody>\n",
              "    <tr>\n",
              "      <th>Bailey High School</th>\n",
              "      <td>20358.5</td>\n",
              "      <td>81.033963</td>\n",
              "      <td>77.048432</td>\n",
              "      <td>7.0</td>\n",
              "      <td>4976.0</td>\n",
              "      <td>3124928.0</td>\n",
              "    </tr>\n",
              "    <tr>\n",
              "      <th>Cabrera High School</th>\n",
              "      <td>16941.5</td>\n",
              "      <td>83.975780</td>\n",
              "      <td>83.061895</td>\n",
              "      <td>6.0</td>\n",
              "      <td>1858.0</td>\n",
              "      <td>1081356.0</td>\n",
              "    </tr>\n",
              "    <tr>\n",
              "      <th>Figueroa High School</th>\n",
              "      <td>4391.0</td>\n",
              "      <td>81.158020</td>\n",
              "      <td>76.711767</td>\n",
              "      <td>1.0</td>\n",
              "      <td>2949.0</td>\n",
              "      <td>1884411.0</td>\n",
              "    </tr>\n",
              "    <tr>\n",
              "      <th>Ford High School</th>\n",
              "      <td>36165.0</td>\n",
              "      <td>80.746258</td>\n",
              "      <td>77.102592</td>\n",
              "      <td>13.0</td>\n",
              "      <td>2739.0</td>\n",
              "      <td>1763916.0</td>\n",
              "    </tr>\n",
              "    <tr>\n",
              "      <th>Griffin High School</th>\n",
              "      <td>12995.5</td>\n",
              "      <td>83.816757</td>\n",
              "      <td>83.351499</td>\n",
              "      <td>4.0</td>\n",
              "      <td>1468.0</td>\n",
              "      <td>917500.0</td>\n",
              "    </tr>\n",
              "    <tr>\n",
              "      <th>Hernandez High School</th>\n",
              "      <td>9944.0</td>\n",
              "      <td>80.934412</td>\n",
              "      <td>77.289752</td>\n",
              "      <td>3.0</td>\n",
              "      <td>4635.0</td>\n",
              "      <td>3022020.0</td>\n",
              "    </tr>\n",
              "    <tr>\n",
              "      <th>Holden High School</th>\n",
              "      <td>23060.0</td>\n",
              "      <td>83.814988</td>\n",
              "      <td>83.803279</td>\n",
              "      <td>8.0</td>\n",
              "      <td>427.0</td>\n",
              "      <td>248087.0</td>\n",
              "    </tr>\n",
              "    <tr>\n",
              "      <th>Huang High School</th>\n",
              "      <td>1458.0</td>\n",
              "      <td>81.182722</td>\n",
              "      <td>76.629414</td>\n",
              "      <td>0.0</td>\n",
              "      <td>2917.0</td>\n",
              "      <td>1910635.0</td>\n",
              "    </tr>\n",
              "    <tr>\n",
              "      <th>Johnson High School</th>\n",
              "      <td>32415.0</td>\n",
              "      <td>80.966394</td>\n",
              "      <td>77.072464</td>\n",
              "      <td>12.0</td>\n",
              "      <td>4761.0</td>\n",
              "      <td>3094650.0</td>\n",
              "    </tr>\n",
              "    <tr>\n",
              "      <th>Pena High School</th>\n",
              "      <td>23754.5</td>\n",
              "      <td>84.044699</td>\n",
              "      <td>83.839917</td>\n",
              "      <td>9.0</td>\n",
              "      <td>962.0</td>\n",
              "      <td>585858.0</td>\n",
              "    </tr>\n",
              "    <tr>\n",
              "      <th>Rodriguez High School</th>\n",
              "      <td>28035.0</td>\n",
              "      <td>80.744686</td>\n",
              "      <td>76.842711</td>\n",
              "      <td>11.0</td>\n",
              "      <td>3999.0</td>\n",
              "      <td>2547363.0</td>\n",
              "    </tr>\n",
              "    <tr>\n",
              "      <th>Shelton High School</th>\n",
              "      <td>6746.0</td>\n",
              "      <td>83.725724</td>\n",
              "      <td>83.359455</td>\n",
              "      <td>2.0</td>\n",
              "      <td>1761.0</td>\n",
              "      <td>1056600.0</td>\n",
              "    </tr>\n",
              "    <tr>\n",
              "      <th>Thomas High School</th>\n",
              "      <td>38352.0</td>\n",
              "      <td>83.848930</td>\n",
              "      <td>83.418349</td>\n",
              "      <td>14.0</td>\n",
              "      <td>1635.0</td>\n",
              "      <td>1043130.0</td>\n",
              "    </tr>\n",
              "    <tr>\n",
              "      <th>Wilson High School</th>\n",
              "      <td>14871.0</td>\n",
              "      <td>83.989488</td>\n",
              "      <td>83.274201</td>\n",
              "      <td>5.0</td>\n",
              "      <td>2283.0</td>\n",
              "      <td>1319574.0</td>\n",
              "    </tr>\n",
              "    <tr>\n",
              "      <th>Wright High School</th>\n",
              "      <td>25135.5</td>\n",
              "      <td>83.955000</td>\n",
              "      <td>83.682222</td>\n",
              "      <td>10.0</td>\n",
              "      <td>1800.0</td>\n",
              "      <td>1049400.0</td>\n",
              "    </tr>\n",
              "  </tbody>\n",
              "</table>\n",
              "</div>"
            ],
            "text/plain": [
              "                       Student ID  reading_score  ...    size     budget\n",
              "school_name                                       ...                   \n",
              "Bailey High School        20358.5      81.033963  ...  4976.0  3124928.0\n",
              "Cabrera High School       16941.5      83.975780  ...  1858.0  1081356.0\n",
              "Figueroa High School       4391.0      81.158020  ...  2949.0  1884411.0\n",
              "Ford High School          36165.0      80.746258  ...  2739.0  1763916.0\n",
              "Griffin High School       12995.5      83.816757  ...  1468.0   917500.0\n",
              "Hernandez High School      9944.0      80.934412  ...  4635.0  3022020.0\n",
              "Holden High School        23060.0      83.814988  ...   427.0   248087.0\n",
              "Huang High School          1458.0      81.182722  ...  2917.0  1910635.0\n",
              "Johnson High School       32415.0      80.966394  ...  4761.0  3094650.0\n",
              "Pena High School          23754.5      84.044699  ...   962.0   585858.0\n",
              "Rodriguez High School     28035.0      80.744686  ...  3999.0  2547363.0\n",
              "Shelton High School        6746.0      83.725724  ...  1761.0  1056600.0\n",
              "Thomas High School        38352.0      83.848930  ...  1635.0  1043130.0\n",
              "Wilson High School        14871.0      83.989488  ...  2283.0  1319574.0\n",
              "Wright High School        25135.5      83.955000  ...  1800.0  1049400.0\n",
              "\n",
              "[15 rows x 6 columns]"
            ]
          },
          "metadata": {
            "tags": []
          },
          "execution_count": 43
        }
      ]
    },
    {
      "cell_type": "code",
      "metadata": {
        "id": "n9ZtjgDcq0O_",
        "colab_type": "code",
        "colab": {
          "base_uri": "https://localhost:8080/",
          "height": 302
        },
        "outputId": "2e2d0583-faf2-4564-9758-95756c459ede"
      },
      "source": [
        "# Calculate the average math scores.\n",
        "per_school_math = school_data_complete_df.groupby([\"school_name\"]).mean()[\"math_score\"]\n",
        "per_school_reading = school_data_complete_df.groupby([\"school_name\"]).mean()[\"reading_score\"]\n",
        "per_school_math\n",
        "per_school_reading"
      ],
      "execution_count": 44,
      "outputs": [
        {
          "output_type": "execute_result",
          "data": {
            "text/plain": [
              "school_name\n",
              "Bailey High School       81.033963\n",
              "Cabrera High School      83.975780\n",
              "Figueroa High School     81.158020\n",
              "Ford High School         80.746258\n",
              "Griffin High School      83.816757\n",
              "Hernandez High School    80.934412\n",
              "Holden High School       83.814988\n",
              "Huang High School        81.182722\n",
              "Johnson High School      80.966394\n",
              "Pena High School         84.044699\n",
              "Rodriguez High School    80.744686\n",
              "Shelton High School      83.725724\n",
              "Thomas High School       83.848930\n",
              "Wilson High School       83.989488\n",
              "Wright High School       83.955000\n",
              "Name: reading_score, dtype: float64"
            ]
          },
          "metadata": {
            "tags": []
          },
          "execution_count": 44
        }
      ]
    },
    {
      "cell_type": "code",
      "metadata": {
        "id": "RSRUmvH5q0PA",
        "colab_type": "code",
        "colab": {
          "base_uri": "https://localhost:8080/",
          "height": 402
        },
        "outputId": "4f437883-a2b9-49d4-e864-550fa6b162c4"
      },
      "source": [
        " # To get the passing percentages, we need to:\n",
        " # 1. Determine what is the passing grade.\n",
        " # 2. Get the number of students who passed math and reading.\n",
        " # 3. Get the students who passed math and passed reading\n",
        "\n",
        "# Calculate the passing scores by creating a filtered DataFrame.\n",
        "per_school_passing_math = school_data_complete_df[(school_data_complete_df[\"math_score\"] >= 70)]\n",
        "per_school_passing_reading = school_data_complete_df[(school_data_complete_df[\"reading_score\"] >= 70)]\n",
        "per_school_passing_math\n",
        "per_school_passing_reading"
      ],
      "execution_count": 45,
      "outputs": [
        {
          "output_type": "execute_result",
          "data": {
            "text/html": [
              "<div>\n",
              "<style scoped>\n",
              "    .dataframe tbody tr th:only-of-type {\n",
              "        vertical-align: middle;\n",
              "    }\n",
              "\n",
              "    .dataframe tbody tr th {\n",
              "        vertical-align: top;\n",
              "    }\n",
              "\n",
              "    .dataframe thead th {\n",
              "        text-align: right;\n",
              "    }\n",
              "</style>\n",
              "<table border=\"1\" class=\"dataframe\">\n",
              "  <thead>\n",
              "    <tr style=\"text-align: right;\">\n",
              "      <th></th>\n",
              "      <th>Student ID</th>\n",
              "      <th>student_name</th>\n",
              "      <th>gender</th>\n",
              "      <th>grade</th>\n",
              "      <th>school_name</th>\n",
              "      <th>reading_score</th>\n",
              "      <th>math_score</th>\n",
              "      <th>School ID</th>\n",
              "      <th>type</th>\n",
              "      <th>size</th>\n",
              "      <th>budget</th>\n",
              "    </tr>\n",
              "  </thead>\n",
              "  <tbody>\n",
              "    <tr>\n",
              "      <th>1</th>\n",
              "      <td>1</td>\n",
              "      <td>Victor Smith</td>\n",
              "      <td>M</td>\n",
              "      <td>12th</td>\n",
              "      <td>Huang High School</td>\n",
              "      <td>94</td>\n",
              "      <td>61</td>\n",
              "      <td>0</td>\n",
              "      <td>District</td>\n",
              "      <td>2917</td>\n",
              "      <td>1910635</td>\n",
              "    </tr>\n",
              "    <tr>\n",
              "      <th>2</th>\n",
              "      <td>2</td>\n",
              "      <td>Kevin Rodriguez</td>\n",
              "      <td>M</td>\n",
              "      <td>12th</td>\n",
              "      <td>Huang High School</td>\n",
              "      <td>90</td>\n",
              "      <td>60</td>\n",
              "      <td>0</td>\n",
              "      <td>District</td>\n",
              "      <td>2917</td>\n",
              "      <td>1910635</td>\n",
              "    </tr>\n",
              "    <tr>\n",
              "      <th>4</th>\n",
              "      <td>4</td>\n",
              "      <td>Bonnie Ray</td>\n",
              "      <td>F</td>\n",
              "      <td>9th</td>\n",
              "      <td>Huang High School</td>\n",
              "      <td>97</td>\n",
              "      <td>84</td>\n",
              "      <td>0</td>\n",
              "      <td>District</td>\n",
              "      <td>2917</td>\n",
              "      <td>1910635</td>\n",
              "    </tr>\n",
              "    <tr>\n",
              "      <th>5</th>\n",
              "      <td>5</td>\n",
              "      <td>Bryan Miranda</td>\n",
              "      <td>M</td>\n",
              "      <td>9th</td>\n",
              "      <td>Huang High School</td>\n",
              "      <td>94</td>\n",
              "      <td>94</td>\n",
              "      <td>0</td>\n",
              "      <td>District</td>\n",
              "      <td>2917</td>\n",
              "      <td>1910635</td>\n",
              "    </tr>\n",
              "    <tr>\n",
              "      <th>6</th>\n",
              "      <td>6</td>\n",
              "      <td>Sheena Carter</td>\n",
              "      <td>F</td>\n",
              "      <td>11th</td>\n",
              "      <td>Huang High School</td>\n",
              "      <td>82</td>\n",
              "      <td>80</td>\n",
              "      <td>0</td>\n",
              "      <td>District</td>\n",
              "      <td>2917</td>\n",
              "      <td>1910635</td>\n",
              "    </tr>\n",
              "    <tr>\n",
              "      <th>...</th>\n",
              "      <td>...</td>\n",
              "      <td>...</td>\n",
              "      <td>...</td>\n",
              "      <td>...</td>\n",
              "      <td>...</td>\n",
              "      <td>...</td>\n",
              "      <td>...</td>\n",
              "      <td>...</td>\n",
              "      <td>...</td>\n",
              "      <td>...</td>\n",
              "      <td>...</td>\n",
              "    </tr>\n",
              "    <tr>\n",
              "      <th>39165</th>\n",
              "      <td>39165</td>\n",
              "      <td>Donna Howard</td>\n",
              "      <td>F</td>\n",
              "      <td>12th</td>\n",
              "      <td>Thomas High School</td>\n",
              "      <td>99</td>\n",
              "      <td>90</td>\n",
              "      <td>14</td>\n",
              "      <td>Charter</td>\n",
              "      <td>1635</td>\n",
              "      <td>1043130</td>\n",
              "    </tr>\n",
              "    <tr>\n",
              "      <th>39166</th>\n",
              "      <td>39166</td>\n",
              "      <td>Dawn Bell</td>\n",
              "      <td>F</td>\n",
              "      <td>10th</td>\n",
              "      <td>Thomas High School</td>\n",
              "      <td>95</td>\n",
              "      <td>70</td>\n",
              "      <td>14</td>\n",
              "      <td>Charter</td>\n",
              "      <td>1635</td>\n",
              "      <td>1043130</td>\n",
              "    </tr>\n",
              "    <tr>\n",
              "      <th>39167</th>\n",
              "      <td>39167</td>\n",
              "      <td>Rebecca Tanner</td>\n",
              "      <td>F</td>\n",
              "      <td>9th</td>\n",
              "      <td>Thomas High School</td>\n",
              "      <td>73</td>\n",
              "      <td>84</td>\n",
              "      <td>14</td>\n",
              "      <td>Charter</td>\n",
              "      <td>1635</td>\n",
              "      <td>1043130</td>\n",
              "    </tr>\n",
              "    <tr>\n",
              "      <th>39168</th>\n",
              "      <td>39168</td>\n",
              "      <td>Desiree Kidd</td>\n",
              "      <td>F</td>\n",
              "      <td>10th</td>\n",
              "      <td>Thomas High School</td>\n",
              "      <td>99</td>\n",
              "      <td>90</td>\n",
              "      <td>14</td>\n",
              "      <td>Charter</td>\n",
              "      <td>1635</td>\n",
              "      <td>1043130</td>\n",
              "    </tr>\n",
              "    <tr>\n",
              "      <th>39169</th>\n",
              "      <td>39169</td>\n",
              "      <td>Carolyn Jackson</td>\n",
              "      <td>F</td>\n",
              "      <td>11th</td>\n",
              "      <td>Thomas High School</td>\n",
              "      <td>95</td>\n",
              "      <td>75</td>\n",
              "      <td>14</td>\n",
              "      <td>Charter</td>\n",
              "      <td>1635</td>\n",
              "      <td>1043130</td>\n",
              "    </tr>\n",
              "  </tbody>\n",
              "</table>\n",
              "<p>33610 rows × 11 columns</p>\n",
              "</div>"
            ],
            "text/plain": [
              "       Student ID     student_name gender  ...      type  size   budget\n",
              "1               1     Victor Smith      M  ...  District  2917  1910635\n",
              "2               2  Kevin Rodriguez      M  ...  District  2917  1910635\n",
              "4               4       Bonnie Ray      F  ...  District  2917  1910635\n",
              "5               5    Bryan Miranda      M  ...  District  2917  1910635\n",
              "6               6    Sheena Carter      F  ...  District  2917  1910635\n",
              "...           ...              ...    ...  ...       ...   ...      ...\n",
              "39165       39165     Donna Howard      F  ...   Charter  1635  1043130\n",
              "39166       39166        Dawn Bell      F  ...   Charter  1635  1043130\n",
              "39167       39167   Rebecca Tanner      F  ...   Charter  1635  1043130\n",
              "39168       39168     Desiree Kidd      F  ...   Charter  1635  1043130\n",
              "39169       39169  Carolyn Jackson      F  ...   Charter  1635  1043130\n",
              "\n",
              "[33610 rows x 11 columns]"
            ]
          },
          "metadata": {
            "tags": []
          },
          "execution_count": 45
        }
      ]
    },
    {
      "cell_type": "code",
      "metadata": {
        "id": "JS-L5qxHq0PD",
        "colab_type": "code",
        "colab": {
          "base_uri": "https://localhost:8080/",
          "height": 302
        },
        "outputId": "c44ce81d-5b8b-4746-ac86-4cdb9a4021f4"
      },
      "source": [
        "per_school_passing_math = per_school_passing_math.groupby([\"school_name\"]).count()[\"student_name\"]\n",
        "per_school_passing_math"
      ],
      "execution_count": 46,
      "outputs": [
        {
          "output_type": "execute_result",
          "data": {
            "text/plain": [
              "school_name\n",
              "Bailey High School       3318\n",
              "Cabrera High School      1749\n",
              "Figueroa High School     1946\n",
              "Ford High School         1871\n",
              "Griffin High School      1371\n",
              "Hernandez High School    3094\n",
              "Holden High School        395\n",
              "Huang High School        1916\n",
              "Johnson High School      3145\n",
              "Pena High School          910\n",
              "Rodriguez High School    2654\n",
              "Shelton High School      1653\n",
              "Thomas High School       1525\n",
              "Wilson High School       2143\n",
              "Wright High School       1680\n",
              "Name: student_name, dtype: int64"
            ]
          },
          "metadata": {
            "tags": []
          },
          "execution_count": 46
        }
      ]
    },
    {
      "cell_type": "code",
      "metadata": {
        "id": "eycks7CQq0PE",
        "colab_type": "code",
        "colab": {
          "base_uri": "https://localhost:8080/",
          "height": 302
        },
        "outputId": "2903db5f-10d3-4f9f-910c-0727cd4298b0"
      },
      "source": [
        "per_school_passing_reading = per_school_passing_reading.groupby([\"school_name\"]).count()[\"student_name\"]\n",
        "per_school_passing_reading"
      ],
      "execution_count": 47,
      "outputs": [
        {
          "output_type": "execute_result",
          "data": {
            "text/plain": [
              "school_name\n",
              "Bailey High School       4077\n",
              "Cabrera High School      1803\n",
              "Figueroa High School     2381\n",
              "Ford High School         2172\n",
              "Griffin High School      1426\n",
              "Hernandez High School    3748\n",
              "Holden High School        411\n",
              "Huang High School        2372\n",
              "Johnson High School      3867\n",
              "Pena High School          923\n",
              "Rodriguez High School    3208\n",
              "Shelton High School      1688\n",
              "Thomas High School       1591\n",
              "Wilson High School       2204\n",
              "Wright High School       1739\n",
              "Name: student_name, dtype: int64"
            ]
          },
          "metadata": {
            "tags": []
          },
          "execution_count": 47
        }
      ]
    },
    {
      "cell_type": "code",
      "metadata": {
        "id": "921OfTn6q0PG",
        "colab_type": "code",
        "colab": {
          "base_uri": "https://localhost:8080/",
          "height": 286
        },
        "outputId": "691d4b04-33cd-48d9-bb62-82c1b9faae42"
      },
      "source": [
        "# Calculate the percentage of passing math and reading scores per school.\n",
        "per_school_passing_math = per_school_passing_math / per_school_counts * 100\n",
        "per_school_passing_math\n"
      ],
      "execution_count": 48,
      "outputs": [
        {
          "output_type": "execute_result",
          "data": {
            "text/plain": [
              "Bailey High School       66.680064\n",
              "Cabrera High School      94.133477\n",
              "Figueroa High School     65.988471\n",
              "Ford High School         68.309602\n",
              "Griffin High School      93.392371\n",
              "Hernandez High School    66.752967\n",
              "Holden High School       92.505855\n",
              "Huang High School        65.683922\n",
              "Johnson High School      66.057551\n",
              "Pena High School         94.594595\n",
              "Rodriguez High School    66.366592\n",
              "Shelton High School      93.867121\n",
              "Thomas High School       93.272171\n",
              "Wilson High School       93.867718\n",
              "Wright High School       93.333333\n",
              "dtype: float64"
            ]
          },
          "metadata": {
            "tags": []
          },
          "execution_count": 48
        }
      ]
    },
    {
      "cell_type": "code",
      "metadata": {
        "id": "8YNuUDtKrmH2",
        "colab_type": "code",
        "colab": {
          "base_uri": "https://localhost:8080/",
          "height": 286
        },
        "outputId": "d6baa357-6b52-4bc0-9146-83b59168aae4"
      },
      "source": [
        "per_school_passing_reading = per_school_passing_reading / per_school_counts * 100\n",
        "\n",
        "per_school_passing_reading"
      ],
      "execution_count": 49,
      "outputs": [
        {
          "output_type": "execute_result",
          "data": {
            "text/plain": [
              "Bailey High School       81.933280\n",
              "Cabrera High School      97.039828\n",
              "Figueroa High School     80.739234\n",
              "Ford High School         79.299014\n",
              "Griffin High School      97.138965\n",
              "Hernandez High School    80.862999\n",
              "Holden High School       96.252927\n",
              "Huang High School        81.316421\n",
              "Johnson High School      81.222432\n",
              "Pena High School         95.945946\n",
              "Rodriguez High School    80.220055\n",
              "Shelton High School      95.854628\n",
              "Thomas High School       97.308869\n",
              "Wilson High School       96.539641\n",
              "Wright High School       96.611111\n",
              "dtype: float64"
            ]
          },
          "metadata": {
            "tags": []
          },
          "execution_count": 49
        }
      ]
    },
    {
      "cell_type": "code",
      "metadata": {
        "id": "hvR9Lv8GsbmO",
        "colab_type": "code",
        "colab": {
          "base_uri": "https://localhost:8080/",
          "height": 195
        },
        "outputId": "a420a4eb-6aa4-4830-eafe-3fb3b83d01d7"
      },
      "source": [
        "# Calculate the students who passed both math and reading.\n",
        "per_passing_math_reading = school_data_complete_df[(school_data_complete_df[\"math_score\"] >= 70) & (school_data_complete_df[\"reading_score\"] >= 70)]\n",
        "\n",
        "per_passing_math_reading.head()"
      ],
      "execution_count": 85,
      "outputs": [
        {
          "output_type": "execute_result",
          "data": {
            "text/html": [
              "<div>\n",
              "<style scoped>\n",
              "    .dataframe tbody tr th:only-of-type {\n",
              "        vertical-align: middle;\n",
              "    }\n",
              "\n",
              "    .dataframe tbody tr th {\n",
              "        vertical-align: top;\n",
              "    }\n",
              "\n",
              "    .dataframe thead th {\n",
              "        text-align: right;\n",
              "    }\n",
              "</style>\n",
              "<table border=\"1\" class=\"dataframe\">\n",
              "  <thead>\n",
              "    <tr style=\"text-align: right;\">\n",
              "      <th></th>\n",
              "      <th>Student ID</th>\n",
              "      <th>student_name</th>\n",
              "      <th>gender</th>\n",
              "      <th>grade</th>\n",
              "      <th>school_name</th>\n",
              "      <th>reading_score</th>\n",
              "      <th>math_score</th>\n",
              "      <th>School ID</th>\n",
              "      <th>type</th>\n",
              "      <th>size</th>\n",
              "      <th>budget</th>\n",
              "    </tr>\n",
              "  </thead>\n",
              "  <tbody>\n",
              "    <tr>\n",
              "      <th>4</th>\n",
              "      <td>4</td>\n",
              "      <td>Bonnie Ray</td>\n",
              "      <td>F</td>\n",
              "      <td>9th</td>\n",
              "      <td>Huang High School</td>\n",
              "      <td>97</td>\n",
              "      <td>84</td>\n",
              "      <td>0</td>\n",
              "      <td>District</td>\n",
              "      <td>2917</td>\n",
              "      <td>1910635</td>\n",
              "    </tr>\n",
              "    <tr>\n",
              "      <th>5</th>\n",
              "      <td>5</td>\n",
              "      <td>Bryan Miranda</td>\n",
              "      <td>M</td>\n",
              "      <td>9th</td>\n",
              "      <td>Huang High School</td>\n",
              "      <td>94</td>\n",
              "      <td>94</td>\n",
              "      <td>0</td>\n",
              "      <td>District</td>\n",
              "      <td>2917</td>\n",
              "      <td>1910635</td>\n",
              "    </tr>\n",
              "    <tr>\n",
              "      <th>6</th>\n",
              "      <td>6</td>\n",
              "      <td>Sheena Carter</td>\n",
              "      <td>F</td>\n",
              "      <td>11th</td>\n",
              "      <td>Huang High School</td>\n",
              "      <td>82</td>\n",
              "      <td>80</td>\n",
              "      <td>0</td>\n",
              "      <td>District</td>\n",
              "      <td>2917</td>\n",
              "      <td>1910635</td>\n",
              "    </tr>\n",
              "    <tr>\n",
              "      <th>8</th>\n",
              "      <td>8</td>\n",
              "      <td>Michael Roth</td>\n",
              "      <td>M</td>\n",
              "      <td>10th</td>\n",
              "      <td>Huang High School</td>\n",
              "      <td>95</td>\n",
              "      <td>87</td>\n",
              "      <td>0</td>\n",
              "      <td>District</td>\n",
              "      <td>2917</td>\n",
              "      <td>1910635</td>\n",
              "    </tr>\n",
              "    <tr>\n",
              "      <th>9</th>\n",
              "      <td>9</td>\n",
              "      <td>Matthew Greene</td>\n",
              "      <td>M</td>\n",
              "      <td>10th</td>\n",
              "      <td>Huang High School</td>\n",
              "      <td>96</td>\n",
              "      <td>84</td>\n",
              "      <td>0</td>\n",
              "      <td>District</td>\n",
              "      <td>2917</td>\n",
              "      <td>1910635</td>\n",
              "    </tr>\n",
              "  </tbody>\n",
              "</table>\n",
              "</div>"
            ],
            "text/plain": [
              "   Student ID    student_name gender grade  ... School ID      type  size   budget\n",
              "4           4      Bonnie Ray      F   9th  ...         0  District  2917  1910635\n",
              "5           5   Bryan Miranda      M   9th  ...         0  District  2917  1910635\n",
              "6           6   Sheena Carter      F  11th  ...         0  District  2917  1910635\n",
              "8           8    Michael Roth      M  10th  ...         0  District  2917  1910635\n",
              "9           9  Matthew Greene      M  10th  ...         0  District  2917  1910635\n",
              "\n",
              "[5 rows x 11 columns]"
            ]
          },
          "metadata": {
            "tags": []
          },
          "execution_count": 85
        }
      ]
    },
    {
      "cell_type": "code",
      "metadata": {
        "id": "UQ4Hnf-yszdN",
        "colab_type": "code",
        "colab": {}
      },
      "source": [
        "#per_passing_math_reading = per_passing_math_reading.groupby([\"school_name\"])\n"
      ],
      "execution_count": 78,
      "outputs": []
    },
    {
      "cell_type": "code",
      "metadata": {
        "id": "FtVUaD54tXCS",
        "colab_type": "code",
        "colab": {
          "base_uri": "https://localhost:8080/",
          "height": 302
        },
        "outputId": "afb50e6d-5d57-4dfd-f10d-6ad88af18fae"
      },
      "source": [
        "# Calculate the number of students who passed both math and reading.\n",
        "per_passing_math_reading = per_passing_math_reading.groupby([\"school_name\"]).count()[\"student_name\"]\n",
        "per_passing_math_reading"
      ],
      "execution_count": 86,
      "outputs": [
        {
          "output_type": "execute_result",
          "data": {
            "text/plain": [
              "school_name\n",
              "Bailey High School       2719\n",
              "Cabrera High School      1697\n",
              "Figueroa High School     1569\n",
              "Ford High School         1487\n",
              "Griffin High School      1330\n",
              "Hernandez High School    2481\n",
              "Holden High School        381\n",
              "Huang High School        1561\n",
              "Johnson High School      2549\n",
              "Pena High School          871\n",
              "Rodriguez High School    2119\n",
              "Shelton High School      1583\n",
              "Thomas High School       1487\n",
              "Wilson High School       2068\n",
              "Wright High School       1626\n",
              "Name: student_name, dtype: int64"
            ]
          },
          "metadata": {
            "tags": []
          },
          "execution_count": 86
        }
      ]
    },
    {
      "cell_type": "code",
      "metadata": {
        "id": "2KEX3W_9tgwe",
        "colab_type": "code",
        "colab": {
          "base_uri": "https://localhost:8080/",
          "height": 286
        },
        "outputId": "6f3968dd-2e96-4506-9c95-5dc8821c52aa"
      },
      "source": [
        "# Calculate the overall passing percentage.\n",
        "per_overall_passing_percentage = per_passing_math_reading / per_school_counts * 100\n",
        "per_overall_passing_percentage"
      ],
      "execution_count": 88,
      "outputs": [
        {
          "output_type": "execute_result",
          "data": {
            "text/plain": [
              "Bailey High School       54.642283\n",
              "Cabrera High School      91.334769\n",
              "Figueroa High School     53.204476\n",
              "Ford High School         54.289887\n",
              "Griffin High School      90.599455\n",
              "Hernandez High School    53.527508\n",
              "Holden High School       89.227166\n",
              "Huang High School        53.513884\n",
              "Johnson High School      53.539172\n",
              "Pena High School         90.540541\n",
              "Rodriguez High School    52.988247\n",
              "Shelton High School      89.892107\n",
              "Thomas High School       90.948012\n",
              "Wilson High School       90.582567\n",
              "Wright High School       90.333333\n",
              "dtype: float64"
            ]
          },
          "metadata": {
            "tags": []
          },
          "execution_count": 88
        }
      ]
    },
    {
      "cell_type": "code",
      "metadata": {
        "id": "hWkefRE3wdQO",
        "colab_type": "code",
        "colab": {
          "base_uri": "https://localhost:8080/",
          "height": 296
        },
        "outputId": "2f360f19-ef12-4276-ef92-8a877f2f97f5"
      },
      "source": [
        "# Adding a list of values with keys to create a new DataFrame.\n",
        "\n",
        "per_school_summary_df = pd.DataFrame({\n",
        "             \"School Type\": per_school_types,\n",
        "             \"Total Students\": per_school_counts,\n",
        "             \"Total School Budget\" : per_school_budget,\n",
        "             \"Per Student Budget\" : per_school_capita,\n",
        "             \"Average Math Score\": per_school_math,\n",
        "             \"Average Reading Score\": per_school_reading,\n",
        "             \"% Passing Math\": per_school_passing_math,\n",
        "             \"% Passing Reading\": per_school_passing_reading,\n",
        "             \"% Overall Passing\": per_overall_passing_percentage\n",
        "             })\n",
        "per_school_summary_df.head()"
      ],
      "execution_count": 109,
      "outputs": [
        {
          "output_type": "execute_result",
          "data": {
            "text/html": [
              "<div>\n",
              "<style scoped>\n",
              "    .dataframe tbody tr th:only-of-type {\n",
              "        vertical-align: middle;\n",
              "    }\n",
              "\n",
              "    .dataframe tbody tr th {\n",
              "        vertical-align: top;\n",
              "    }\n",
              "\n",
              "    .dataframe thead th {\n",
              "        text-align: right;\n",
              "    }\n",
              "</style>\n",
              "<table border=\"1\" class=\"dataframe\">\n",
              "  <thead>\n",
              "    <tr style=\"text-align: right;\">\n",
              "      <th></th>\n",
              "      <th>School Type</th>\n",
              "      <th>Total Students</th>\n",
              "      <th>Total School Budget</th>\n",
              "      <th>Per Student Budget</th>\n",
              "      <th>Average Math Score</th>\n",
              "      <th>Average Reading Score</th>\n",
              "      <th>% Passing Math</th>\n",
              "      <th>% Passing Reading</th>\n",
              "      <th>% Overall Passing</th>\n",
              "    </tr>\n",
              "  </thead>\n",
              "  <tbody>\n",
              "    <tr>\n",
              "      <th>Bailey High School</th>\n",
              "      <td>District</td>\n",
              "      <td>4976</td>\n",
              "      <td>3124928</td>\n",
              "      <td>628.0</td>\n",
              "      <td>77.048432</td>\n",
              "      <td>81.033963</td>\n",
              "      <td>66.680064</td>\n",
              "      <td>81.933280</td>\n",
              "      <td>54.642283</td>\n",
              "    </tr>\n",
              "    <tr>\n",
              "      <th>Cabrera High School</th>\n",
              "      <td>Charter</td>\n",
              "      <td>1858</td>\n",
              "      <td>1081356</td>\n",
              "      <td>582.0</td>\n",
              "      <td>83.061895</td>\n",
              "      <td>83.975780</td>\n",
              "      <td>94.133477</td>\n",
              "      <td>97.039828</td>\n",
              "      <td>91.334769</td>\n",
              "    </tr>\n",
              "    <tr>\n",
              "      <th>Figueroa High School</th>\n",
              "      <td>District</td>\n",
              "      <td>2949</td>\n",
              "      <td>1884411</td>\n",
              "      <td>639.0</td>\n",
              "      <td>76.711767</td>\n",
              "      <td>81.158020</td>\n",
              "      <td>65.988471</td>\n",
              "      <td>80.739234</td>\n",
              "      <td>53.204476</td>\n",
              "    </tr>\n",
              "    <tr>\n",
              "      <th>Ford High School</th>\n",
              "      <td>District</td>\n",
              "      <td>2739</td>\n",
              "      <td>1763916</td>\n",
              "      <td>644.0</td>\n",
              "      <td>77.102592</td>\n",
              "      <td>80.746258</td>\n",
              "      <td>68.309602</td>\n",
              "      <td>79.299014</td>\n",
              "      <td>54.289887</td>\n",
              "    </tr>\n",
              "    <tr>\n",
              "      <th>Griffin High School</th>\n",
              "      <td>Charter</td>\n",
              "      <td>1468</td>\n",
              "      <td>917500</td>\n",
              "      <td>625.0</td>\n",
              "      <td>83.351499</td>\n",
              "      <td>83.816757</td>\n",
              "      <td>93.392371</td>\n",
              "      <td>97.138965</td>\n",
              "      <td>90.599455</td>\n",
              "    </tr>\n",
              "  </tbody>\n",
              "</table>\n",
              "</div>"
            ],
            "text/plain": [
              "                     School Type  ...  % Overall Passing\n",
              "Bailey High School      District  ...          54.642283\n",
              "Cabrera High School      Charter  ...          91.334769\n",
              "Figueroa High School    District  ...          53.204476\n",
              "Ford High School        District  ...          54.289887\n",
              "Griffin High School      Charter  ...          90.599455\n",
              "\n",
              "[5 rows x 9 columns]"
            ]
          },
          "metadata": {
            "tags": []
          },
          "execution_count": 109
        }
      ]
    },
    {
      "cell_type": "code",
      "metadata": {
        "id": "zwG6dRhVxqTe",
        "colab_type": "code",
        "colab": {
          "base_uri": "https://localhost:8080/",
          "height": 296
        },
        "outputId": "07631dc9-fc2c-4ef0-ac19-c0f7e8cd681f"
      },
      "source": [
        "# Format the Total School Budget and the Per Student Budget columns.\n",
        "per_school_summary_df[\"Total School Budget\"] = per_school_summary_df[\"Total School Budget\"].map(\"${:,.2f}\".format)\n",
        "\n",
        "per_school_summary_df[\"Per Student Budget\"] = per_school_summary_df[\"Per Student Budget\"].map(\"${:,.2f}\".format)\n",
        "\n",
        "\n",
        "# Display the data frame\n",
        "per_school_summary_df.head()"
      ],
      "execution_count": 110,
      "outputs": [
        {
          "output_type": "execute_result",
          "data": {
            "text/html": [
              "<div>\n",
              "<style scoped>\n",
              "    .dataframe tbody tr th:only-of-type {\n",
              "        vertical-align: middle;\n",
              "    }\n",
              "\n",
              "    .dataframe tbody tr th {\n",
              "        vertical-align: top;\n",
              "    }\n",
              "\n",
              "    .dataframe thead th {\n",
              "        text-align: right;\n",
              "    }\n",
              "</style>\n",
              "<table border=\"1\" class=\"dataframe\">\n",
              "  <thead>\n",
              "    <tr style=\"text-align: right;\">\n",
              "      <th></th>\n",
              "      <th>School Type</th>\n",
              "      <th>Total Students</th>\n",
              "      <th>Total School Budget</th>\n",
              "      <th>Per Student Budget</th>\n",
              "      <th>Average Math Score</th>\n",
              "      <th>Average Reading Score</th>\n",
              "      <th>% Passing Math</th>\n",
              "      <th>% Passing Reading</th>\n",
              "      <th>% Overall Passing</th>\n",
              "    </tr>\n",
              "  </thead>\n",
              "  <tbody>\n",
              "    <tr>\n",
              "      <th>Bailey High School</th>\n",
              "      <td>District</td>\n",
              "      <td>4976</td>\n",
              "      <td>$3,124,928.00</td>\n",
              "      <td>$628.00</td>\n",
              "      <td>77.048432</td>\n",
              "      <td>81.033963</td>\n",
              "      <td>66.680064</td>\n",
              "      <td>81.933280</td>\n",
              "      <td>54.642283</td>\n",
              "    </tr>\n",
              "    <tr>\n",
              "      <th>Cabrera High School</th>\n",
              "      <td>Charter</td>\n",
              "      <td>1858</td>\n",
              "      <td>$1,081,356.00</td>\n",
              "      <td>$582.00</td>\n",
              "      <td>83.061895</td>\n",
              "      <td>83.975780</td>\n",
              "      <td>94.133477</td>\n",
              "      <td>97.039828</td>\n",
              "      <td>91.334769</td>\n",
              "    </tr>\n",
              "    <tr>\n",
              "      <th>Figueroa High School</th>\n",
              "      <td>District</td>\n",
              "      <td>2949</td>\n",
              "      <td>$1,884,411.00</td>\n",
              "      <td>$639.00</td>\n",
              "      <td>76.711767</td>\n",
              "      <td>81.158020</td>\n",
              "      <td>65.988471</td>\n",
              "      <td>80.739234</td>\n",
              "      <td>53.204476</td>\n",
              "    </tr>\n",
              "    <tr>\n",
              "      <th>Ford High School</th>\n",
              "      <td>District</td>\n",
              "      <td>2739</td>\n",
              "      <td>$1,763,916.00</td>\n",
              "      <td>$644.00</td>\n",
              "      <td>77.102592</td>\n",
              "      <td>80.746258</td>\n",
              "      <td>68.309602</td>\n",
              "      <td>79.299014</td>\n",
              "      <td>54.289887</td>\n",
              "    </tr>\n",
              "    <tr>\n",
              "      <th>Griffin High School</th>\n",
              "      <td>Charter</td>\n",
              "      <td>1468</td>\n",
              "      <td>$917,500.00</td>\n",
              "      <td>$625.00</td>\n",
              "      <td>83.351499</td>\n",
              "      <td>83.816757</td>\n",
              "      <td>93.392371</td>\n",
              "      <td>97.138965</td>\n",
              "      <td>90.599455</td>\n",
              "    </tr>\n",
              "  </tbody>\n",
              "</table>\n",
              "</div>"
            ],
            "text/plain": [
              "                     School Type  ...  % Overall Passing\n",
              "Bailey High School      District  ...          54.642283\n",
              "Cabrera High School      Charter  ...          91.334769\n",
              "Figueroa High School    District  ...          53.204476\n",
              "Ford High School        District  ...          54.289887\n",
              "Griffin High School      Charter  ...          90.599455\n",
              "\n",
              "[5 rows x 9 columns]"
            ]
          },
          "metadata": {
            "tags": []
          },
          "execution_count": 110
        }
      ]
    },
    {
      "cell_type": "code",
      "metadata": {
        "id": "l2uFLh4SzDUG",
        "colab_type": "code",
        "colab": {
          "base_uri": "https://localhost:8080/",
          "height": 296
        },
        "outputId": "1f4fb66c-5ae6-46ff-f96c-d025d5dc0614"
      },
      "source": [
        "per_school_summary_df[\"Average Math Score\"] = per_school_summary_df[\"Average Math Score\"].map(\"{:.1f}\".format)\n",
        "per_school_summary_df[\"Average Reading Score\"] = per_school_summary_df[\"Average Reading Score\"].map(\"{:.1f}\".format)\n",
        "per_school_summary_df[\"% Passing Math\"] = per_school_summary_df[\"% Passing Math\"].map(\"{:.0f}\".format)\n",
        "per_school_summary_df[\"% Passing Reading\"] = per_school_summary_df[\"% Passing Reading\"].map(\"{:.0f}\".format)\n",
        "per_school_summary_df[\"% Overall Passing\"] = per_school_summary_df[\"% Overall Passing\"].map(\"{:.0f}\".format)\n",
        "\n",
        "# Display the data frame\n",
        "per_school_summary_df.head()\n"
      ],
      "execution_count": 111,
      "outputs": [
        {
          "output_type": "execute_result",
          "data": {
            "text/html": [
              "<div>\n",
              "<style scoped>\n",
              "    .dataframe tbody tr th:only-of-type {\n",
              "        vertical-align: middle;\n",
              "    }\n",
              "\n",
              "    .dataframe tbody tr th {\n",
              "        vertical-align: top;\n",
              "    }\n",
              "\n",
              "    .dataframe thead th {\n",
              "        text-align: right;\n",
              "    }\n",
              "</style>\n",
              "<table border=\"1\" class=\"dataframe\">\n",
              "  <thead>\n",
              "    <tr style=\"text-align: right;\">\n",
              "      <th></th>\n",
              "      <th>School Type</th>\n",
              "      <th>Total Students</th>\n",
              "      <th>Total School Budget</th>\n",
              "      <th>Per Student Budget</th>\n",
              "      <th>Average Math Score</th>\n",
              "      <th>Average Reading Score</th>\n",
              "      <th>% Passing Math</th>\n",
              "      <th>% Passing Reading</th>\n",
              "      <th>% Overall Passing</th>\n",
              "    </tr>\n",
              "  </thead>\n",
              "  <tbody>\n",
              "    <tr>\n",
              "      <th>Bailey High School</th>\n",
              "      <td>District</td>\n",
              "      <td>4976</td>\n",
              "      <td>$3,124,928.00</td>\n",
              "      <td>$628.00</td>\n",
              "      <td>77.0</td>\n",
              "      <td>81.0</td>\n",
              "      <td>67</td>\n",
              "      <td>82</td>\n",
              "      <td>55</td>\n",
              "    </tr>\n",
              "    <tr>\n",
              "      <th>Cabrera High School</th>\n",
              "      <td>Charter</td>\n",
              "      <td>1858</td>\n",
              "      <td>$1,081,356.00</td>\n",
              "      <td>$582.00</td>\n",
              "      <td>83.1</td>\n",
              "      <td>84.0</td>\n",
              "      <td>94</td>\n",
              "      <td>97</td>\n",
              "      <td>91</td>\n",
              "    </tr>\n",
              "    <tr>\n",
              "      <th>Figueroa High School</th>\n",
              "      <td>District</td>\n",
              "      <td>2949</td>\n",
              "      <td>$1,884,411.00</td>\n",
              "      <td>$639.00</td>\n",
              "      <td>76.7</td>\n",
              "      <td>81.2</td>\n",
              "      <td>66</td>\n",
              "      <td>81</td>\n",
              "      <td>53</td>\n",
              "    </tr>\n",
              "    <tr>\n",
              "      <th>Ford High School</th>\n",
              "      <td>District</td>\n",
              "      <td>2739</td>\n",
              "      <td>$1,763,916.00</td>\n",
              "      <td>$644.00</td>\n",
              "      <td>77.1</td>\n",
              "      <td>80.7</td>\n",
              "      <td>68</td>\n",
              "      <td>79</td>\n",
              "      <td>54</td>\n",
              "    </tr>\n",
              "    <tr>\n",
              "      <th>Griffin High School</th>\n",
              "      <td>Charter</td>\n",
              "      <td>1468</td>\n",
              "      <td>$917,500.00</td>\n",
              "      <td>$625.00</td>\n",
              "      <td>83.4</td>\n",
              "      <td>83.8</td>\n",
              "      <td>93</td>\n",
              "      <td>97</td>\n",
              "      <td>91</td>\n",
              "    </tr>\n",
              "  </tbody>\n",
              "</table>\n",
              "</div>"
            ],
            "text/plain": [
              "                     School Type  ...  % Overall Passing\n",
              "Bailey High School      District  ...                 55\n",
              "Cabrera High School      Charter  ...                 91\n",
              "Figueroa High School    District  ...                 53\n",
              "Ford High School        District  ...                 54\n",
              "Griffin High School      Charter  ...                 91\n",
              "\n",
              "[5 rows x 9 columns]"
            ]
          },
          "metadata": {
            "tags": []
          },
          "execution_count": 111
        }
      ]
    },
    {
      "cell_type": "code",
      "metadata": {
        "id": "j1xYvx031lBm",
        "colab_type": "code",
        "colab": {
          "base_uri": "https://localhost:8080/",
          "height": 296
        },
        "outputId": "3ada06fd-b5c9-4df9-8392-368a698d397b"
      },
      "source": [
        "# Sort and show top five schools.\n",
        "top_schools = per_school_summary_df.sort_values([\"% Overall Passing\"], ascending=False)\n",
        "top_schools.head()"
      ],
      "execution_count": 112,
      "outputs": [
        {
          "output_type": "execute_result",
          "data": {
            "text/html": [
              "<div>\n",
              "<style scoped>\n",
              "    .dataframe tbody tr th:only-of-type {\n",
              "        vertical-align: middle;\n",
              "    }\n",
              "\n",
              "    .dataframe tbody tr th {\n",
              "        vertical-align: top;\n",
              "    }\n",
              "\n",
              "    .dataframe thead th {\n",
              "        text-align: right;\n",
              "    }\n",
              "</style>\n",
              "<table border=\"1\" class=\"dataframe\">\n",
              "  <thead>\n",
              "    <tr style=\"text-align: right;\">\n",
              "      <th></th>\n",
              "      <th>School Type</th>\n",
              "      <th>Total Students</th>\n",
              "      <th>Total School Budget</th>\n",
              "      <th>Per Student Budget</th>\n",
              "      <th>Average Math Score</th>\n",
              "      <th>Average Reading Score</th>\n",
              "      <th>% Passing Math</th>\n",
              "      <th>% Passing Reading</th>\n",
              "      <th>% Overall Passing</th>\n",
              "    </tr>\n",
              "  </thead>\n",
              "  <tbody>\n",
              "    <tr>\n",
              "      <th>Cabrera High School</th>\n",
              "      <td>Charter</td>\n",
              "      <td>1858</td>\n",
              "      <td>$1,081,356.00</td>\n",
              "      <td>$582.00</td>\n",
              "      <td>83.1</td>\n",
              "      <td>84.0</td>\n",
              "      <td>94</td>\n",
              "      <td>97</td>\n",
              "      <td>91</td>\n",
              "    </tr>\n",
              "    <tr>\n",
              "      <th>Griffin High School</th>\n",
              "      <td>Charter</td>\n",
              "      <td>1468</td>\n",
              "      <td>$917,500.00</td>\n",
              "      <td>$625.00</td>\n",
              "      <td>83.4</td>\n",
              "      <td>83.8</td>\n",
              "      <td>93</td>\n",
              "      <td>97</td>\n",
              "      <td>91</td>\n",
              "    </tr>\n",
              "    <tr>\n",
              "      <th>Pena High School</th>\n",
              "      <td>Charter</td>\n",
              "      <td>962</td>\n",
              "      <td>$585,858.00</td>\n",
              "      <td>$609.00</td>\n",
              "      <td>83.8</td>\n",
              "      <td>84.0</td>\n",
              "      <td>95</td>\n",
              "      <td>96</td>\n",
              "      <td>91</td>\n",
              "    </tr>\n",
              "    <tr>\n",
              "      <th>Thomas High School</th>\n",
              "      <td>Charter</td>\n",
              "      <td>1635</td>\n",
              "      <td>$1,043,130.00</td>\n",
              "      <td>$638.00</td>\n",
              "      <td>83.4</td>\n",
              "      <td>83.8</td>\n",
              "      <td>93</td>\n",
              "      <td>97</td>\n",
              "      <td>91</td>\n",
              "    </tr>\n",
              "    <tr>\n",
              "      <th>Wilson High School</th>\n",
              "      <td>Charter</td>\n",
              "      <td>2283</td>\n",
              "      <td>$1,319,574.00</td>\n",
              "      <td>$578.00</td>\n",
              "      <td>83.3</td>\n",
              "      <td>84.0</td>\n",
              "      <td>94</td>\n",
              "      <td>97</td>\n",
              "      <td>91</td>\n",
              "    </tr>\n",
              "  </tbody>\n",
              "</table>\n",
              "</div>"
            ],
            "text/plain": [
              "                    School Type  ...  % Overall Passing\n",
              "Cabrera High School     Charter  ...                 91\n",
              "Griffin High School     Charter  ...                 91\n",
              "Pena High School        Charter  ...                 91\n",
              "Thomas High School      Charter  ...                 91\n",
              "Wilson High School      Charter  ...                 91\n",
              "\n",
              "[5 rows x 9 columns]"
            ]
          },
          "metadata": {
            "tags": []
          },
          "execution_count": 112
        }
      ]
    },
    {
      "cell_type": "code",
      "metadata": {
        "id": "XlfOGZt31_2B",
        "colab_type": "code",
        "colab": {
          "base_uri": "https://localhost:8080/",
          "height": 279
        },
        "outputId": "74d8c723-651e-402d-9abe-62ef576cca7b"
      },
      "source": [
        "# Sort and show bottom five schools.\n",
        "bottom_schools = per_school_summary_df.sort_values([\"% Overall Passing\"], ascending=True)\n",
        "bottom_schools.head()"
      ],
      "execution_count": 113,
      "outputs": [
        {
          "output_type": "execute_result",
          "data": {
            "text/html": [
              "<div>\n",
              "<style scoped>\n",
              "    .dataframe tbody tr th:only-of-type {\n",
              "        vertical-align: middle;\n",
              "    }\n",
              "\n",
              "    .dataframe tbody tr th {\n",
              "        vertical-align: top;\n",
              "    }\n",
              "\n",
              "    .dataframe thead th {\n",
              "        text-align: right;\n",
              "    }\n",
              "</style>\n",
              "<table border=\"1\" class=\"dataframe\">\n",
              "  <thead>\n",
              "    <tr style=\"text-align: right;\">\n",
              "      <th></th>\n",
              "      <th>School Type</th>\n",
              "      <th>Total Students</th>\n",
              "      <th>Total School Budget</th>\n",
              "      <th>Per Student Budget</th>\n",
              "      <th>Average Math Score</th>\n",
              "      <th>Average Reading Score</th>\n",
              "      <th>% Passing Math</th>\n",
              "      <th>% Passing Reading</th>\n",
              "      <th>% Overall Passing</th>\n",
              "    </tr>\n",
              "  </thead>\n",
              "  <tbody>\n",
              "    <tr>\n",
              "      <th>Figueroa High School</th>\n",
              "      <td>District</td>\n",
              "      <td>2949</td>\n",
              "      <td>$1,884,411.00</td>\n",
              "      <td>$639.00</td>\n",
              "      <td>76.7</td>\n",
              "      <td>81.2</td>\n",
              "      <td>66</td>\n",
              "      <td>81</td>\n",
              "      <td>53</td>\n",
              "    </tr>\n",
              "    <tr>\n",
              "      <th>Rodriguez High School</th>\n",
              "      <td>District</td>\n",
              "      <td>3999</td>\n",
              "      <td>$2,547,363.00</td>\n",
              "      <td>$637.00</td>\n",
              "      <td>76.8</td>\n",
              "      <td>80.7</td>\n",
              "      <td>66</td>\n",
              "      <td>80</td>\n",
              "      <td>53</td>\n",
              "    </tr>\n",
              "    <tr>\n",
              "      <th>Ford High School</th>\n",
              "      <td>District</td>\n",
              "      <td>2739</td>\n",
              "      <td>$1,763,916.00</td>\n",
              "      <td>$644.00</td>\n",
              "      <td>77.1</td>\n",
              "      <td>80.7</td>\n",
              "      <td>68</td>\n",
              "      <td>79</td>\n",
              "      <td>54</td>\n",
              "    </tr>\n",
              "    <tr>\n",
              "      <th>Hernandez High School</th>\n",
              "      <td>District</td>\n",
              "      <td>4635</td>\n",
              "      <td>$3,022,020.00</td>\n",
              "      <td>$652.00</td>\n",
              "      <td>77.3</td>\n",
              "      <td>80.9</td>\n",
              "      <td>67</td>\n",
              "      <td>81</td>\n",
              "      <td>54</td>\n",
              "    </tr>\n",
              "    <tr>\n",
              "      <th>Huang High School</th>\n",
              "      <td>District</td>\n",
              "      <td>2917</td>\n",
              "      <td>$1,910,635.00</td>\n",
              "      <td>$655.00</td>\n",
              "      <td>76.6</td>\n",
              "      <td>81.2</td>\n",
              "      <td>66</td>\n",
              "      <td>81</td>\n",
              "      <td>54</td>\n",
              "    </tr>\n",
              "  </tbody>\n",
              "</table>\n",
              "</div>"
            ],
            "text/plain": [
              "                      School Type  ...  % Overall Passing\n",
              "Figueroa High School     District  ...                 53\n",
              "Rodriguez High School    District  ...                 53\n",
              "Ford High School         District  ...                 54\n",
              "Hernandez High School    District  ...                 54\n",
              "Huang High School        District  ...                 54\n",
              "\n",
              "[5 rows x 9 columns]"
            ]
          },
          "metadata": {
            "tags": []
          },
          "execution_count": 113
        }
      ]
    },
    {
      "cell_type": "code",
      "metadata": {
        "id": "PU4_saMo2h4w",
        "colab_type": "code",
        "colab": {
          "base_uri": "https://localhost:8080/",
          "height": 279
        },
        "outputId": "71471c04-5c39-40a1-d48c-b02bc55ddfcd"
      },
      "source": [
        "# Sort and show bottom five schools.\n",
        "bottom_schools = per_school_summary_df.sort_values([\"% Overall Passing\"])\n",
        "bottom_schools.head()"
      ],
      "execution_count": 116,
      "outputs": [
        {
          "output_type": "execute_result",
          "data": {
            "text/html": [
              "<div>\n",
              "<style scoped>\n",
              "    .dataframe tbody tr th:only-of-type {\n",
              "        vertical-align: middle;\n",
              "    }\n",
              "\n",
              "    .dataframe tbody tr th {\n",
              "        vertical-align: top;\n",
              "    }\n",
              "\n",
              "    .dataframe thead th {\n",
              "        text-align: right;\n",
              "    }\n",
              "</style>\n",
              "<table border=\"1\" class=\"dataframe\">\n",
              "  <thead>\n",
              "    <tr style=\"text-align: right;\">\n",
              "      <th></th>\n",
              "      <th>School Type</th>\n",
              "      <th>Total Students</th>\n",
              "      <th>Total School Budget</th>\n",
              "      <th>Per Student Budget</th>\n",
              "      <th>Average Math Score</th>\n",
              "      <th>Average Reading Score</th>\n",
              "      <th>% Passing Math</th>\n",
              "      <th>% Passing Reading</th>\n",
              "      <th>% Overall Passing</th>\n",
              "    </tr>\n",
              "  </thead>\n",
              "  <tbody>\n",
              "    <tr>\n",
              "      <th>Figueroa High School</th>\n",
              "      <td>District</td>\n",
              "      <td>2949</td>\n",
              "      <td>$1,884,411.00</td>\n",
              "      <td>$639.00</td>\n",
              "      <td>76.7</td>\n",
              "      <td>81.2</td>\n",
              "      <td>66</td>\n",
              "      <td>81</td>\n",
              "      <td>53</td>\n",
              "    </tr>\n",
              "    <tr>\n",
              "      <th>Rodriguez High School</th>\n",
              "      <td>District</td>\n",
              "      <td>3999</td>\n",
              "      <td>$2,547,363.00</td>\n",
              "      <td>$637.00</td>\n",
              "      <td>76.8</td>\n",
              "      <td>80.7</td>\n",
              "      <td>66</td>\n",
              "      <td>80</td>\n",
              "      <td>53</td>\n",
              "    </tr>\n",
              "    <tr>\n",
              "      <th>Ford High School</th>\n",
              "      <td>District</td>\n",
              "      <td>2739</td>\n",
              "      <td>$1,763,916.00</td>\n",
              "      <td>$644.00</td>\n",
              "      <td>77.1</td>\n",
              "      <td>80.7</td>\n",
              "      <td>68</td>\n",
              "      <td>79</td>\n",
              "      <td>54</td>\n",
              "    </tr>\n",
              "    <tr>\n",
              "      <th>Hernandez High School</th>\n",
              "      <td>District</td>\n",
              "      <td>4635</td>\n",
              "      <td>$3,022,020.00</td>\n",
              "      <td>$652.00</td>\n",
              "      <td>77.3</td>\n",
              "      <td>80.9</td>\n",
              "      <td>67</td>\n",
              "      <td>81</td>\n",
              "      <td>54</td>\n",
              "    </tr>\n",
              "    <tr>\n",
              "      <th>Huang High School</th>\n",
              "      <td>District</td>\n",
              "      <td>2917</td>\n",
              "      <td>$1,910,635.00</td>\n",
              "      <td>$655.00</td>\n",
              "      <td>76.6</td>\n",
              "      <td>81.2</td>\n",
              "      <td>66</td>\n",
              "      <td>81</td>\n",
              "      <td>54</td>\n",
              "    </tr>\n",
              "  </tbody>\n",
              "</table>\n",
              "</div>"
            ],
            "text/plain": [
              "                      School Type  ...  % Overall Passing\n",
              "Figueroa High School     District  ...                 53\n",
              "Rodriguez High School    District  ...                 53\n",
              "Ford High School         District  ...                 54\n",
              "Hernandez High School    District  ...                 54\n",
              "Huang High School        District  ...                 54\n",
              "\n",
              "[5 rows x 9 columns]"
            ]
          },
          "metadata": {
            "tags": []
          },
          "execution_count": 116
        }
      ]
    },
    {
      "cell_type": "code",
      "metadata": {
        "id": "b2DHtw-PAG_e",
        "colab_type": "code",
        "colab": {
          "base_uri": "https://localhost:8080/",
          "height": 402
        },
        "outputId": "ca3199c2-726d-40d3-b37b-8f3580f9e931"
      },
      "source": [
        "ninth_graders = school_data_complete_df[(school_data_complete_df[\"grade\"] == \"9th\")]\n",
        "ninth_graders\n",
        "tenth_graders = school_data_complete_df[(school_data_complete_df[\"grade\"] == \"10th\")]\n",
        "tenth_graders\n",
        "eleventh_graders = school_data_complete_df[(school_data_complete_df[\"grade\"] == \"11th\")]\n",
        "eleventh_graders\n",
        "twelfth_graders = school_data_complete_df[(school_data_complete_df[\"grade\"] == \"12th\")]\n",
        "twelfth_graders"
      ],
      "execution_count": 134,
      "outputs": [
        {
          "output_type": "execute_result",
          "data": {
            "text/html": [
              "<div>\n",
              "<style scoped>\n",
              "    .dataframe tbody tr th:only-of-type {\n",
              "        vertical-align: middle;\n",
              "    }\n",
              "\n",
              "    .dataframe tbody tr th {\n",
              "        vertical-align: top;\n",
              "    }\n",
              "\n",
              "    .dataframe thead th {\n",
              "        text-align: right;\n",
              "    }\n",
              "</style>\n",
              "<table border=\"1\" class=\"dataframe\">\n",
              "  <thead>\n",
              "    <tr style=\"text-align: right;\">\n",
              "      <th></th>\n",
              "      <th>Student ID</th>\n",
              "      <th>student_name</th>\n",
              "      <th>gender</th>\n",
              "      <th>grade</th>\n",
              "      <th>school_name</th>\n",
              "      <th>reading_score</th>\n",
              "      <th>math_score</th>\n",
              "      <th>School ID</th>\n",
              "      <th>type</th>\n",
              "      <th>size</th>\n",
              "      <th>budget</th>\n",
              "    </tr>\n",
              "  </thead>\n",
              "  <tbody>\n",
              "    <tr>\n",
              "      <th>1</th>\n",
              "      <td>1</td>\n",
              "      <td>Victor Smith</td>\n",
              "      <td>M</td>\n",
              "      <td>12th</td>\n",
              "      <td>Huang High School</td>\n",
              "      <td>94</td>\n",
              "      <td>61</td>\n",
              "      <td>0</td>\n",
              "      <td>District</td>\n",
              "      <td>2917</td>\n",
              "      <td>1910635</td>\n",
              "    </tr>\n",
              "    <tr>\n",
              "      <th>2</th>\n",
              "      <td>2</td>\n",
              "      <td>Kevin Rodriguez</td>\n",
              "      <td>M</td>\n",
              "      <td>12th</td>\n",
              "      <td>Huang High School</td>\n",
              "      <td>90</td>\n",
              "      <td>60</td>\n",
              "      <td>0</td>\n",
              "      <td>District</td>\n",
              "      <td>2917</td>\n",
              "      <td>1910635</td>\n",
              "    </tr>\n",
              "    <tr>\n",
              "      <th>3</th>\n",
              "      <td>3</td>\n",
              "      <td>Richard Scott</td>\n",
              "      <td>M</td>\n",
              "      <td>12th</td>\n",
              "      <td>Huang High School</td>\n",
              "      <td>67</td>\n",
              "      <td>58</td>\n",
              "      <td>0</td>\n",
              "      <td>District</td>\n",
              "      <td>2917</td>\n",
              "      <td>1910635</td>\n",
              "    </tr>\n",
              "    <tr>\n",
              "      <th>7</th>\n",
              "      <td>7</td>\n",
              "      <td>Nicole Baker</td>\n",
              "      <td>F</td>\n",
              "      <td>12th</td>\n",
              "      <td>Huang High School</td>\n",
              "      <td>96</td>\n",
              "      <td>69</td>\n",
              "      <td>0</td>\n",
              "      <td>District</td>\n",
              "      <td>2917</td>\n",
              "      <td>1910635</td>\n",
              "    </tr>\n",
              "    <tr>\n",
              "      <th>29</th>\n",
              "      <td>29</td>\n",
              "      <td>Nicole Brown</td>\n",
              "      <td>F</td>\n",
              "      <td>12th</td>\n",
              "      <td>Huang High School</td>\n",
              "      <td>90</td>\n",
              "      <td>88</td>\n",
              "      <td>0</td>\n",
              "      <td>District</td>\n",
              "      <td>2917</td>\n",
              "      <td>1910635</td>\n",
              "    </tr>\n",
              "    <tr>\n",
              "      <th>...</th>\n",
              "      <td>...</td>\n",
              "      <td>...</td>\n",
              "      <td>...</td>\n",
              "      <td>...</td>\n",
              "      <td>...</td>\n",
              "      <td>...</td>\n",
              "      <td>...</td>\n",
              "      <td>...</td>\n",
              "      <td>...</td>\n",
              "      <td>...</td>\n",
              "      <td>...</td>\n",
              "    </tr>\n",
              "    <tr>\n",
              "      <th>39137</th>\n",
              "      <td>39137</td>\n",
              "      <td>Victoria Bailey</td>\n",
              "      <td>F</td>\n",
              "      <td>12th</td>\n",
              "      <td>Thomas High School</td>\n",
              "      <td>75</td>\n",
              "      <td>70</td>\n",
              "      <td>14</td>\n",
              "      <td>Charter</td>\n",
              "      <td>1635</td>\n",
              "      <td>1043130</td>\n",
              "    </tr>\n",
              "    <tr>\n",
              "      <th>39144</th>\n",
              "      <td>39144</td>\n",
              "      <td>Cristian Webster</td>\n",
              "      <td>M</td>\n",
              "      <td>12th</td>\n",
              "      <td>Thomas High School</td>\n",
              "      <td>77</td>\n",
              "      <td>87</td>\n",
              "      <td>14</td>\n",
              "      <td>Charter</td>\n",
              "      <td>1635</td>\n",
              "      <td>1043130</td>\n",
              "    </tr>\n",
              "    <tr>\n",
              "      <th>39154</th>\n",
              "      <td>39154</td>\n",
              "      <td>Bradley Johnson</td>\n",
              "      <td>M</td>\n",
              "      <td>12th</td>\n",
              "      <td>Thomas High School</td>\n",
              "      <td>91</td>\n",
              "      <td>71</td>\n",
              "      <td>14</td>\n",
              "      <td>Charter</td>\n",
              "      <td>1635</td>\n",
              "      <td>1043130</td>\n",
              "    </tr>\n",
              "    <tr>\n",
              "      <th>39162</th>\n",
              "      <td>39162</td>\n",
              "      <td>Derek Weeks</td>\n",
              "      <td>M</td>\n",
              "      <td>12th</td>\n",
              "      <td>Thomas High School</td>\n",
              "      <td>94</td>\n",
              "      <td>77</td>\n",
              "      <td>14</td>\n",
              "      <td>Charter</td>\n",
              "      <td>1635</td>\n",
              "      <td>1043130</td>\n",
              "    </tr>\n",
              "    <tr>\n",
              "      <th>39165</th>\n",
              "      <td>39165</td>\n",
              "      <td>Donna Howard</td>\n",
              "      <td>F</td>\n",
              "      <td>12th</td>\n",
              "      <td>Thomas High School</td>\n",
              "      <td>99</td>\n",
              "      <td>90</td>\n",
              "      <td>14</td>\n",
              "      <td>Charter</td>\n",
              "      <td>1635</td>\n",
              "      <td>1043130</td>\n",
              "    </tr>\n",
              "  </tbody>\n",
              "</table>\n",
              "<p>7899 rows × 11 columns</p>\n",
              "</div>"
            ],
            "text/plain": [
              "       Student ID      student_name gender  ...      type  size   budget\n",
              "1               1      Victor Smith      M  ...  District  2917  1910635\n",
              "2               2   Kevin Rodriguez      M  ...  District  2917  1910635\n",
              "3               3     Richard Scott      M  ...  District  2917  1910635\n",
              "7               7      Nicole Baker      F  ...  District  2917  1910635\n",
              "29             29      Nicole Brown      F  ...  District  2917  1910635\n",
              "...           ...               ...    ...  ...       ...   ...      ...\n",
              "39137       39137   Victoria Bailey      F  ...   Charter  1635  1043130\n",
              "39144       39144  Cristian Webster      M  ...   Charter  1635  1043130\n",
              "39154       39154   Bradley Johnson      M  ...   Charter  1635  1043130\n",
              "39162       39162       Derek Weeks      M  ...   Charter  1635  1043130\n",
              "39165       39165      Donna Howard      F  ...   Charter  1635  1043130\n",
              "\n",
              "[7899 rows x 11 columns]"
            ]
          },
          "metadata": {
            "tags": []
          },
          "execution_count": 134
        }
      ]
    },
    {
      "cell_type": "code",
      "metadata": {
        "id": "9_E-BCvrBGW2",
        "colab_type": "code",
        "colab": {
          "base_uri": "https://localhost:8080/",
          "height": 302
        },
        "outputId": "278d6d74-7956-4563-da74-783adf4b2ca5"
      },
      "source": [
        "ninth_grade_math_scores = ninth_graders.groupby([\"school_name\"]).mean()[\"math_score\"]\n",
        "ninth_grade_math_scores"
      ],
      "execution_count": 135,
      "outputs": [
        {
          "output_type": "execute_result",
          "data": {
            "text/plain": [
              "school_name\n",
              "Bailey High School       77.083676\n",
              "Cabrera High School      83.094697\n",
              "Figueroa High School     76.403037\n",
              "Ford High School         77.361345\n",
              "Griffin High School      82.044010\n",
              "Hernandez High School    77.438495\n",
              "Holden High School       83.787402\n",
              "Huang High School        77.027251\n",
              "Johnson High School      77.187857\n",
              "Pena High School         83.625455\n",
              "Rodriguez High School    76.859966\n",
              "Shelton High School      83.420755\n",
              "Thomas High School       83.590022\n",
              "Wilson High School       83.085578\n",
              "Wright High School       83.264706\n",
              "Name: math_score, dtype: float64"
            ]
          },
          "metadata": {
            "tags": []
          },
          "execution_count": 135
        }
      ]
    },
    {
      "cell_type": "code",
      "metadata": {
        "id": "7N0xk482Db_e",
        "colab_type": "code",
        "colab": {
          "base_uri": "https://localhost:8080/",
          "height": 302
        },
        "outputId": "f1c7e82b-b84a-41e2-aa7a-add8492da059"
      },
      "source": [
        "ninth_grade_reading_scores = ninth_graders.groupby([\"school_name\"]).mean()[\"reading_score\"]\n"
      ],
      "execution_count": 136,
      "outputs": [
        {
          "output_type": "execute_result",
          "data": {
            "text/plain": [
              "school_name\n",
              "Bailey High School       81.303155\n",
              "Cabrera High School      83.676136\n",
              "Figueroa High School     81.198598\n",
              "Ford High School         80.632653\n",
              "Griffin High School      83.369193\n",
              "Hernandez High School    80.866860\n",
              "Holden High School       83.677165\n",
              "Huang High School        81.290284\n",
              "Johnson High School      81.260714\n",
              "Pena High School         83.807273\n",
              "Rodriguez High School    80.993127\n",
              "Shelton High School      84.122642\n",
              "Thomas High School       83.728850\n",
              "Wilson High School       83.939778\n",
              "Wright High School       83.833333\n",
              "Name: reading_score, dtype: float64"
            ]
          },
          "metadata": {
            "tags": []
          },
          "execution_count": 136
        }
      ]
    },
    {
      "cell_type": "code",
      "metadata": {
        "id": "nna8Kt77DmI7",
        "colab_type": "code",
        "colab": {
          "base_uri": "https://localhost:8080/",
          "height": 302
        },
        "outputId": "372f49c5-fd8f-463b-a9c6-5b9600e58c91"
      },
      "source": [
        "tenth_grade_math_scores = tenth_graders.groupby([\"school_name\"]).mean()[\"math_score\"]\n",
        "\n",
        "eleventh_grade_math_scores = eleventh_graders.groupby([\"school_name\"]).mean()[\"math_score\"]\n",
        "\n",
        "twelfth_grade_math_scores = twelfth_graders.groupby([\"school_name\"]).mean()[\"math_score\"]\n",
        "twelfth_grade_math_scores"
      ],
      "execution_count": 138,
      "outputs": [
        {
          "output_type": "execute_result",
          "data": {
            "text/plain": [
              "school_name\n",
              "Bailey High School       76.492218\n",
              "Cabrera High School      83.277487\n",
              "Figueroa High School     77.151369\n",
              "Ford High School         76.179963\n",
              "Griffin High School      83.356164\n",
              "Hernandez High School    77.186567\n",
              "Holden High School       82.855422\n",
              "Huang High School        77.225641\n",
              "Johnson High School      76.863248\n",
              "Pena High School         84.121547\n",
              "Rodriguez High School    77.690748\n",
              "Shelton High School      83.778976\n",
              "Thomas High School       83.497041\n",
              "Wilson High School       83.035794\n",
              "Wright High School       83.644986\n",
              "Name: math_score, dtype: float64"
            ]
          },
          "metadata": {
            "tags": []
          },
          "execution_count": 138
        }
      ]
    },
    {
      "cell_type": "code",
      "metadata": {
        "id": "7Y0YXpLkD9OD",
        "colab_type": "code",
        "colab": {
          "base_uri": "https://localhost:8080/",
          "height": 302
        },
        "outputId": "629d418e-6550-4492-ddcf-5468258f51ad"
      },
      "source": [
        "tenth_grade_reading_scores = tenth_graders.groupby([\"school_name\"]).mean()[\"reading_score\"]\n",
        "\n",
        "eleventh_grade_reading_scores = eleventh_graders.groupby([\"school_name\"]).mean()[\"reading_score\"]\n",
        "\n",
        "twelfth_grade_reading_scores = twelfth_graders.groupby([\"school_name\"]).mean()[\"reading_score\"]\n",
        "twelfth_grade_reading_scores"
      ],
      "execution_count": 149,
      "outputs": [
        {
          "output_type": "execute_result",
          "data": {
            "text/plain": [
              "school_name\n",
              "Bailey High School       80.912451\n",
              "Cabrera High School      84.287958\n",
              "Figueroa High School     81.384863\n",
              "Ford High School         80.662338\n",
              "Griffin High School      84.013699\n",
              "Hernandez High School    80.857143\n",
              "Holden High School       84.698795\n",
              "Huang High School        80.305983\n",
              "Johnson High School      81.227564\n",
              "Pena High School         84.591160\n",
              "Rodriguez High School    80.376426\n",
              "Shelton High School      82.781671\n",
              "Thomas High School       83.831361\n",
              "Wilson High School       84.317673\n",
              "Wright High School       84.073171\n",
              "Name: reading_score, dtype: float64"
            ]
          },
          "metadata": {
            "tags": []
          },
          "execution_count": 149
        }
      ]
    },
    {
      "cell_type": "code",
      "metadata": {
        "id": "A7eqbLw9EPXD",
        "colab_type": "code",
        "colab": {
          "base_uri": "https://localhost:8080/",
          "height": 225
        },
        "outputId": "a9c77eec-6171-4c87-e6e8-25068ceab897"
      },
      "source": [
        "# Combine each Series for average math scores by school into single DataFrame.\n",
        "math_scores_by_grade = pd.DataFrame({\n",
        "    \"9th\": ninth_grade_math_scores,\n",
        "    \"10th\": tenth_grade_math_scores,\n",
        "    \"11th\": eleventh_grade_math_scores,\n",
        "    \"12th\": twelfth_grade_math_scores\n",
        "})\n",
        "math_scores_by_grade.head()"
      ],
      "execution_count": 150,
      "outputs": [
        {
          "output_type": "execute_result",
          "data": {
            "text/html": [
              "<div>\n",
              "<style scoped>\n",
              "    .dataframe tbody tr th:only-of-type {\n",
              "        vertical-align: middle;\n",
              "    }\n",
              "\n",
              "    .dataframe tbody tr th {\n",
              "        vertical-align: top;\n",
              "    }\n",
              "\n",
              "    .dataframe thead th {\n",
              "        text-align: right;\n",
              "    }\n",
              "</style>\n",
              "<table border=\"1\" class=\"dataframe\">\n",
              "  <thead>\n",
              "    <tr style=\"text-align: right;\">\n",
              "      <th></th>\n",
              "      <th>9th</th>\n",
              "      <th>10th</th>\n",
              "      <th>11th</th>\n",
              "      <th>12th</th>\n",
              "    </tr>\n",
              "    <tr>\n",
              "      <th>school_name</th>\n",
              "      <th></th>\n",
              "      <th></th>\n",
              "      <th></th>\n",
              "      <th></th>\n",
              "    </tr>\n",
              "  </thead>\n",
              "  <tbody>\n",
              "    <tr>\n",
              "      <th>Bailey High School</th>\n",
              "      <td>77.083676</td>\n",
              "      <td>76.996772</td>\n",
              "      <td>77.515588</td>\n",
              "      <td>76.492218</td>\n",
              "    </tr>\n",
              "    <tr>\n",
              "      <th>Cabrera High School</th>\n",
              "      <td>83.094697</td>\n",
              "      <td>83.154506</td>\n",
              "      <td>82.765560</td>\n",
              "      <td>83.277487</td>\n",
              "    </tr>\n",
              "    <tr>\n",
              "      <th>Figueroa High School</th>\n",
              "      <td>76.403037</td>\n",
              "      <td>76.539974</td>\n",
              "      <td>76.884344</td>\n",
              "      <td>77.151369</td>\n",
              "    </tr>\n",
              "    <tr>\n",
              "      <th>Ford High School</th>\n",
              "      <td>77.361345</td>\n",
              "      <td>77.672316</td>\n",
              "      <td>76.918058</td>\n",
              "      <td>76.179963</td>\n",
              "    </tr>\n",
              "    <tr>\n",
              "      <th>Griffin High School</th>\n",
              "      <td>82.044010</td>\n",
              "      <td>84.229064</td>\n",
              "      <td>83.842105</td>\n",
              "      <td>83.356164</td>\n",
              "    </tr>\n",
              "  </tbody>\n",
              "</table>\n",
              "</div>"
            ],
            "text/plain": [
              "                            9th       10th       11th       12th\n",
              "school_name                                                     \n",
              "Bailey High School    77.083676  76.996772  77.515588  76.492218\n",
              "Cabrera High School   83.094697  83.154506  82.765560  83.277487\n",
              "Figueroa High School  76.403037  76.539974  76.884344  77.151369\n",
              "Ford High School      77.361345  77.672316  76.918058  76.179963\n",
              "Griffin High School   82.044010  84.229064  83.842105  83.356164"
            ]
          },
          "metadata": {
            "tags": []
          },
          "execution_count": 150
        }
      ]
    },
    {
      "cell_type": "code",
      "metadata": {
        "id": "LBY5FTpMEryb",
        "colab_type": "code",
        "colab": {
          "base_uri": "https://localhost:8080/",
          "height": 225
        },
        "outputId": "cbc511e9-a1e5-423e-a60e-ca37f875ce36"
      },
      "source": [
        "# Format each grade column.\n",
        "\n",
        "math_scores_by_grade[\"9th\"] = math_scores_by_grade[\"9th\"].map(\"{:.1f}\".format)\n",
        "math_scores_by_grade[\"10th\"] = math_scores_by_grade[\"10th\"].map(\"{:.1f}\".format)\n",
        "math_scores_by_grade[\"11th\"] = math_scores_by_grade[\"11th\"].map(\"{:.1f}\".format)\n",
        "math_scores_by_grade[\"12th\"] = math_scores_by_grade[\"12th\"].map(\"{:.1f}\".format)\n",
        "\n",
        "math_scores_by_grade.head()"
      ],
      "execution_count": 151,
      "outputs": [
        {
          "output_type": "execute_result",
          "data": {
            "text/html": [
              "<div>\n",
              "<style scoped>\n",
              "    .dataframe tbody tr th:only-of-type {\n",
              "        vertical-align: middle;\n",
              "    }\n",
              "\n",
              "    .dataframe tbody tr th {\n",
              "        vertical-align: top;\n",
              "    }\n",
              "\n",
              "    .dataframe thead th {\n",
              "        text-align: right;\n",
              "    }\n",
              "</style>\n",
              "<table border=\"1\" class=\"dataframe\">\n",
              "  <thead>\n",
              "    <tr style=\"text-align: right;\">\n",
              "      <th></th>\n",
              "      <th>9th</th>\n",
              "      <th>10th</th>\n",
              "      <th>11th</th>\n",
              "      <th>12th</th>\n",
              "    </tr>\n",
              "    <tr>\n",
              "      <th>school_name</th>\n",
              "      <th></th>\n",
              "      <th></th>\n",
              "      <th></th>\n",
              "      <th></th>\n",
              "    </tr>\n",
              "  </thead>\n",
              "  <tbody>\n",
              "    <tr>\n",
              "      <th>Bailey High School</th>\n",
              "      <td>77.1</td>\n",
              "      <td>77.0</td>\n",
              "      <td>77.5</td>\n",
              "      <td>76.5</td>\n",
              "    </tr>\n",
              "    <tr>\n",
              "      <th>Cabrera High School</th>\n",
              "      <td>83.1</td>\n",
              "      <td>83.2</td>\n",
              "      <td>82.8</td>\n",
              "      <td>83.3</td>\n",
              "    </tr>\n",
              "    <tr>\n",
              "      <th>Figueroa High School</th>\n",
              "      <td>76.4</td>\n",
              "      <td>76.5</td>\n",
              "      <td>76.9</td>\n",
              "      <td>77.2</td>\n",
              "    </tr>\n",
              "    <tr>\n",
              "      <th>Ford High School</th>\n",
              "      <td>77.4</td>\n",
              "      <td>77.7</td>\n",
              "      <td>76.9</td>\n",
              "      <td>76.2</td>\n",
              "    </tr>\n",
              "    <tr>\n",
              "      <th>Griffin High School</th>\n",
              "      <td>82.0</td>\n",
              "      <td>84.2</td>\n",
              "      <td>83.8</td>\n",
              "      <td>83.4</td>\n",
              "    </tr>\n",
              "  </tbody>\n",
              "</table>\n",
              "</div>"
            ],
            "text/plain": [
              "                       9th  10th  11th  12th\n",
              "school_name                                 \n",
              "Bailey High School    77.1  77.0  77.5  76.5\n",
              "Cabrera High School   83.1  83.2  82.8  83.3\n",
              "Figueroa High School  76.4  76.5  76.9  77.2\n",
              "Ford High School      77.4  77.7  76.9  76.2\n",
              "Griffin High School   82.0  84.2  83.8  83.4"
            ]
          },
          "metadata": {
            "tags": []
          },
          "execution_count": 151
        }
      ]
    },
    {
      "cell_type": "code",
      "metadata": {
        "id": "kmc3BMtPFbjM",
        "colab_type": "code",
        "colab": {
          "base_uri": "https://localhost:8080/",
          "height": 225
        },
        "outputId": "0f43c754-b894-4510-a0fb-1b7bb2ba790d"
      },
      "source": [
        "# Combine each Series for average reading scores by school into single DataFrame.\n",
        "reading_scores_by_grade = pd.DataFrame({\n",
        "    \"9th\": ninth_grade_reading_scores,\n",
        "    \"10th\": tenth_grade_reading_scores,\n",
        "    \"11th\": eleventh_grade_reading_scores,\n",
        "    \"12th\": twelfth_grade_reading_scores\n",
        "})\n",
        "reading_scores_by_grade.head()\n"
      ],
      "execution_count": 155,
      "outputs": [
        {
          "output_type": "execute_result",
          "data": {
            "text/html": [
              "<div>\n",
              "<style scoped>\n",
              "    .dataframe tbody tr th:only-of-type {\n",
              "        vertical-align: middle;\n",
              "    }\n",
              "\n",
              "    .dataframe tbody tr th {\n",
              "        vertical-align: top;\n",
              "    }\n",
              "\n",
              "    .dataframe thead th {\n",
              "        text-align: right;\n",
              "    }\n",
              "</style>\n",
              "<table border=\"1\" class=\"dataframe\">\n",
              "  <thead>\n",
              "    <tr style=\"text-align: right;\">\n",
              "      <th></th>\n",
              "      <th>9th</th>\n",
              "      <th>10th</th>\n",
              "      <th>11th</th>\n",
              "      <th>12th</th>\n",
              "    </tr>\n",
              "    <tr>\n",
              "      <th>school_name</th>\n",
              "      <th></th>\n",
              "      <th></th>\n",
              "      <th></th>\n",
              "      <th></th>\n",
              "    </tr>\n",
              "  </thead>\n",
              "  <tbody>\n",
              "    <tr>\n",
              "      <th>Bailey High School</th>\n",
              "      <td>81.303155</td>\n",
              "      <td>80.907183</td>\n",
              "      <td>80.945643</td>\n",
              "      <td>80.912451</td>\n",
              "    </tr>\n",
              "    <tr>\n",
              "      <th>Cabrera High School</th>\n",
              "      <td>83.676136</td>\n",
              "      <td>84.253219</td>\n",
              "      <td>83.788382</td>\n",
              "      <td>84.287958</td>\n",
              "    </tr>\n",
              "    <tr>\n",
              "      <th>Figueroa High School</th>\n",
              "      <td>81.198598</td>\n",
              "      <td>81.408912</td>\n",
              "      <td>80.640339</td>\n",
              "      <td>81.384863</td>\n",
              "    </tr>\n",
              "    <tr>\n",
              "      <th>Ford High School</th>\n",
              "      <td>80.632653</td>\n",
              "      <td>81.262712</td>\n",
              "      <td>80.403642</td>\n",
              "      <td>80.662338</td>\n",
              "    </tr>\n",
              "    <tr>\n",
              "      <th>Griffin High School</th>\n",
              "      <td>83.369193</td>\n",
              "      <td>83.706897</td>\n",
              "      <td>84.288089</td>\n",
              "      <td>84.013699</td>\n",
              "    </tr>\n",
              "  </tbody>\n",
              "</table>\n",
              "</div>"
            ],
            "text/plain": [
              "                            9th       10th       11th       12th\n",
              "school_name                                                     \n",
              "Bailey High School    81.303155  80.907183  80.945643  80.912451\n",
              "Cabrera High School   83.676136  84.253219  83.788382  84.287958\n",
              "Figueroa High School  81.198598  81.408912  80.640339  81.384863\n",
              "Ford High School      80.632653  81.262712  80.403642  80.662338\n",
              "Griffin High School   83.369193  83.706897  84.288089  84.013699"
            ]
          },
          "metadata": {
            "tags": []
          },
          "execution_count": 155
        }
      ]
    },
    {
      "cell_type": "code",
      "metadata": {
        "id": "ljWTAcKtFmbr",
        "colab_type": "code",
        "colab": {
          "base_uri": "https://localhost:8080/",
          "height": 225
        },
        "outputId": "d5492531-96a0-4765-a6b7-a5849138e12a"
      },
      "source": [
        "# Format each grade column.\n",
        "reading_scores_by_grade[\"9th\"] = reading_scores_by_grade[\"9th\"].map(\"{:.1f}\".format)\n",
        "reading_scores_by_grade[\"10th\"] = reading_scores_by_grade[\"10th\"].map(\"{:.1f}\".format)\n",
        "reading_scores_by_grade[\"11th\"] = reading_scores_by_grade[\"11th\"].map(\"{:.1f}\".format)\n",
        "reading_scores_by_grade[\"12th\"] = reading_scores_by_grade[\"12th\"].map(\"{:.1f}\".format)\n",
        "reading_scores_by_grade.head()"
      ],
      "execution_count": 156,
      "outputs": [
        {
          "output_type": "execute_result",
          "data": {
            "text/html": [
              "<div>\n",
              "<style scoped>\n",
              "    .dataframe tbody tr th:only-of-type {\n",
              "        vertical-align: middle;\n",
              "    }\n",
              "\n",
              "    .dataframe tbody tr th {\n",
              "        vertical-align: top;\n",
              "    }\n",
              "\n",
              "    .dataframe thead th {\n",
              "        text-align: right;\n",
              "    }\n",
              "</style>\n",
              "<table border=\"1\" class=\"dataframe\">\n",
              "  <thead>\n",
              "    <tr style=\"text-align: right;\">\n",
              "      <th></th>\n",
              "      <th>9th</th>\n",
              "      <th>10th</th>\n",
              "      <th>11th</th>\n",
              "      <th>12th</th>\n",
              "    </tr>\n",
              "    <tr>\n",
              "      <th>school_name</th>\n",
              "      <th></th>\n",
              "      <th></th>\n",
              "      <th></th>\n",
              "      <th></th>\n",
              "    </tr>\n",
              "  </thead>\n",
              "  <tbody>\n",
              "    <tr>\n",
              "      <th>Bailey High School</th>\n",
              "      <td>81.3</td>\n",
              "      <td>80.9</td>\n",
              "      <td>80.9</td>\n",
              "      <td>80.9</td>\n",
              "    </tr>\n",
              "    <tr>\n",
              "      <th>Cabrera High School</th>\n",
              "      <td>83.7</td>\n",
              "      <td>84.3</td>\n",
              "      <td>83.8</td>\n",
              "      <td>84.3</td>\n",
              "    </tr>\n",
              "    <tr>\n",
              "      <th>Figueroa High School</th>\n",
              "      <td>81.2</td>\n",
              "      <td>81.4</td>\n",
              "      <td>80.6</td>\n",
              "      <td>81.4</td>\n",
              "    </tr>\n",
              "    <tr>\n",
              "      <th>Ford High School</th>\n",
              "      <td>80.6</td>\n",
              "      <td>81.3</td>\n",
              "      <td>80.4</td>\n",
              "      <td>80.7</td>\n",
              "    </tr>\n",
              "    <tr>\n",
              "      <th>Griffin High School</th>\n",
              "      <td>83.4</td>\n",
              "      <td>83.7</td>\n",
              "      <td>84.3</td>\n",
              "      <td>84.0</td>\n",
              "    </tr>\n",
              "  </tbody>\n",
              "</table>\n",
              "</div>"
            ],
            "text/plain": [
              "                       9th  10th  11th  12th\n",
              "school_name                                 \n",
              "Bailey High School    81.3  80.9  80.9  80.9\n",
              "Cabrera High School   83.7  84.3  83.8  84.3\n",
              "Figueroa High School  81.2  81.4  80.6  81.4\n",
              "Ford High School      80.6  81.3  80.4  80.7\n",
              "Griffin High School   83.4  83.7  84.3  84.0"
            ]
          },
          "metadata": {
            "tags": []
          },
          "execution_count": 156
        }
      ]
    }
  ]
}